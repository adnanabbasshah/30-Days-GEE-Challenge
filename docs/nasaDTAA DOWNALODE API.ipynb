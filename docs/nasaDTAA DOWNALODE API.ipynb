{
  "cells": [
    {
      "cell_type": "markdown",
      "metadata": {
        "id": "tIKkqhXmDUU-"
      },
      "source": [
        "[![Open In Colab](https://colab.research.google.com/assets/colab-badge.svg)](https://colab.research.google.com/github/nasa/harmony/blob/main/docs/Harmony%20API%20introduction.ipynb)"
      ]
    },
    {
      "cell_type": "markdown",
      "metadata": {
        "id": "JT7UWDv3DUVB"
      },
      "source": [
        "# Harmony API Introduction\n",
        "\n",
        "This notebook provides an overview of the capabilities offered through the Harmony API, which supports the [OpenGIS Web Map Service](https://www.ogc.org/standards/wms#overview) and the [OGC API - Coverages](https://github.com/opengeospatial/ogc_api_coverage) specification. The examples below demonstrate synchronous and asynchronous access of several subsetting and reprojection services available from the Harmony/gdal demo service, native data access for data without transformation services, and the WMS map image service.\n",
        "\n",
        "Authors: Amy Steiker, Patrick Quinn"
      ]
    },
    {
      "cell_type": "markdown",
      "metadata": {
        "id": "EcuIuxB6DUVC"
      },
      "source": [
        "## Import packages\n",
        "\n",
        "Most packages below should be included natively with the Anaconda Python distribution, for example, but some may need to install packages like `rasterio` manually using the following example:"
      ]
    },
    {
      "cell_type": "code",
      "execution_count": 1,
      "metadata": {
        "tags": [],
        "id": "RBYpm_7PDUVD",
        "outputId": "597ff684-511d-4d59-d375-8251edc9336f",
        "colab": {
          "base_uri": "https://localhost:8080/"
        }
      },
      "outputs": [
        {
          "output_type": "stream",
          "name": "stdout",
          "text": [
            "Collecting rasterio\n",
            "  Downloading rasterio-1.4.2-cp310-cp310-manylinux_2_17_x86_64.manylinux2014_x86_64.whl.metadata (9.1 kB)\n",
            "Collecting OWSLib\n",
            "  Downloading OWSLib-0.32.0-py2.py3-none-any.whl.metadata (6.6 kB)\n",
            "Requirement already satisfied: GDAL in /usr/local/lib/python3.10/dist-packages (3.6.4)\n",
            "Requirement already satisfied: matplotlib in /usr/local/lib/python3.10/dist-packages (3.8.0)\n",
            "Collecting netCDF4\n",
            "  Downloading netCDF4-1.7.2-cp310-cp310-manylinux_2_17_x86_64.manylinux2014_x86_64.whl.metadata (1.8 kB)\n",
            "Requirement already satisfied: numpy in /usr/local/lib/python3.10/dist-packages (1.26.4)\n",
            "Collecting affine (from rasterio)\n",
            "  Downloading affine-2.4.0-py3-none-any.whl.metadata (4.0 kB)\n",
            "Requirement already satisfied: attrs in /usr/local/lib/python3.10/dist-packages (from rasterio) (24.2.0)\n",
            "Requirement already satisfied: certifi in /usr/local/lib/python3.10/dist-packages (from rasterio) (2024.8.30)\n",
            "Requirement already satisfied: click>=4.0 in /usr/local/lib/python3.10/dist-packages (from rasterio) (8.1.7)\n",
            "Collecting cligj>=0.5 (from rasterio)\n",
            "  Downloading cligj-0.7.2-py3-none-any.whl.metadata (5.0 kB)\n",
            "Collecting click-plugins (from rasterio)\n",
            "  Downloading click_plugins-1.1.1-py2.py3-none-any.whl.metadata (6.4 kB)\n",
            "Requirement already satisfied: pyparsing in /usr/local/lib/python3.10/dist-packages (from rasterio) (3.2.0)\n",
            "Requirement already satisfied: lxml in /usr/local/lib/python3.10/dist-packages (from OWSLib) (5.3.0)\n",
            "Requirement already satisfied: python-dateutil in /usr/local/lib/python3.10/dist-packages (from OWSLib) (2.8.2)\n",
            "Requirement already satisfied: pyyaml in /usr/local/lib/python3.10/dist-packages (from OWSLib) (6.0.2)\n",
            "Requirement already satisfied: requests in /usr/local/lib/python3.10/dist-packages (from OWSLib) (2.32.3)\n",
            "Requirement already satisfied: contourpy>=1.0.1 in /usr/local/lib/python3.10/dist-packages (from matplotlib) (1.3.1)\n",
            "Requirement already satisfied: cycler>=0.10 in /usr/local/lib/python3.10/dist-packages (from matplotlib) (0.12.1)\n",
            "Requirement already satisfied: fonttools>=4.22.0 in /usr/local/lib/python3.10/dist-packages (from matplotlib) (4.54.1)\n",
            "Requirement already satisfied: kiwisolver>=1.0.1 in /usr/local/lib/python3.10/dist-packages (from matplotlib) (1.4.7)\n",
            "Requirement already satisfied: packaging>=20.0 in /usr/local/lib/python3.10/dist-packages (from matplotlib) (24.2)\n",
            "Requirement already satisfied: pillow>=6.2.0 in /usr/local/lib/python3.10/dist-packages (from matplotlib) (11.0.0)\n",
            "Collecting cftime (from netCDF4)\n",
            "  Downloading cftime-1.6.4.post1-cp310-cp310-manylinux_2_17_x86_64.manylinux2014_x86_64.whl.metadata (8.7 kB)\n",
            "Requirement already satisfied: six>=1.5 in /usr/local/lib/python3.10/dist-packages (from python-dateutil->OWSLib) (1.16.0)\n",
            "Requirement already satisfied: charset-normalizer<4,>=2 in /usr/local/lib/python3.10/dist-packages (from requests->OWSLib) (3.4.0)\n",
            "Requirement already satisfied: idna<4,>=2.5 in /usr/local/lib/python3.10/dist-packages (from requests->OWSLib) (3.10)\n",
            "Requirement already satisfied: urllib3<3,>=1.21.1 in /usr/local/lib/python3.10/dist-packages (from requests->OWSLib) (2.2.3)\n",
            "Downloading rasterio-1.4.2-cp310-cp310-manylinux_2_17_x86_64.manylinux2014_x86_64.whl (22.2 MB)\n",
            "\u001b[2K   \u001b[90m━━━━━━━━━━━━━━━━━━━━━━━━━━━━━━━━━━━━━━━━\u001b[0m \u001b[32m22.2/22.2 MB\u001b[0m \u001b[31m18.8 MB/s\u001b[0m eta \u001b[36m0:00:00\u001b[0m\n",
            "\u001b[?25hDownloading OWSLib-0.32.0-py2.py3-none-any.whl (240 kB)\n",
            "\u001b[2K   \u001b[90m━━━━━━━━━━━━━━━━━━━━━━━━━━━━━━━━━━━━━━━━\u001b[0m \u001b[32m240.0/240.0 kB\u001b[0m \u001b[31m4.0 MB/s\u001b[0m eta \u001b[36m0:00:00\u001b[0m\n",
            "\u001b[?25hDownloading netCDF4-1.7.2-cp310-cp310-manylinux_2_17_x86_64.manylinux2014_x86_64.whl (9.1 MB)\n",
            "\u001b[2K   \u001b[90m━━━━━━━━━━━━━━━━━━━━━━━━━━━━━━━━━━━━━━━━\u001b[0m \u001b[32m9.1/9.1 MB\u001b[0m \u001b[31m24.8 MB/s\u001b[0m eta \u001b[36m0:00:00\u001b[0m\n",
            "\u001b[?25hDownloading cligj-0.7.2-py3-none-any.whl (7.1 kB)\n",
            "Downloading affine-2.4.0-py3-none-any.whl (15 kB)\n",
            "Downloading cftime-1.6.4.post1-cp310-cp310-manylinux_2_17_x86_64.manylinux2014_x86_64.whl (1.3 MB)\n",
            "\u001b[2K   \u001b[90m━━━━━━━━━━━━━━━━━━━━━━━━━━━━━━━━━━━━━━━━\u001b[0m \u001b[32m1.3/1.3 MB\u001b[0m \u001b[31m19.1 MB/s\u001b[0m eta \u001b[36m0:00:00\u001b[0m\n",
            "\u001b[?25hDownloading click_plugins-1.1.1-py2.py3-none-any.whl (7.5 kB)\n",
            "Installing collected packages: cligj, click-plugins, cftime, affine, rasterio, OWSLib, netCDF4\n",
            "Successfully installed OWSLib-0.32.0 affine-2.4.0 cftime-1.6.4.post1 click-plugins-1.1.1 cligj-0.7.2 netCDF4-1.7.2 rasterio-1.4.2\n"
          ]
        }
      ],
      "source": [
        "# Install prerequisite packages\n",
        "import sys\n",
        "\n",
        "# Note you usually need to install gdal outside of Python / pip first. On OSX, brew install gdal\n",
        "!{sys.executable} -m pip install rasterio OWSLib GDAL matplotlib netCDF4 numpy"
      ]
    },
    {
      "cell_type": "code",
      "execution_count": 2,
      "metadata": {
        "id": "IfQnzGcNDUVD"
      },
      "outputs": [],
      "source": [
        "from urllib import request, parse\n",
        "from http.cookiejar import CookieJar\n",
        "from base64 import b64encode\n",
        "import getpass\n",
        "import netrc\n",
        "import requests\n",
        "import json\n",
        "import os\n",
        "import pprint\n",
        "from osgeo import gdal\n",
        "import matplotlib.pyplot as plt\n",
        "import matplotlib.image as mpimg\n",
        "import rasterio\n",
        "from rasterio.plot import show\n",
        "import numpy as np\n",
        "import time\n",
        "from netCDF4 import Dataset\n",
        "from owslib.wms import WebMapService\n",
        "from owslib.util import Authentication\n",
        "%matplotlib inline"
      ]
    },
    {
      "cell_type": "markdown",
      "metadata": {
        "id": "6C1J92IiDUVE"
      },
      "source": [
        "## Local directory setup\n",
        "\n",
        "Specify a local directory where the following Harmony outputs will be saved:"
      ]
    },
    {
      "cell_type": "code",
      "execution_count": 3,
      "metadata": {
        "id": "JJ6fEZN0DUVE"
      },
      "outputs": [],
      "source": [
        "local_dir = './outputs/'\n",
        "if not os.path.exists(local_dir):\n",
        "  os.mkdir(local_dir)"
      ]
    },
    {
      "cell_type": "markdown",
      "metadata": {
        "id": "CXbi_bVQDUVE"
      },
      "source": [
        "## Earthdata Login Authentication\n",
        "\n",
        "An Earthdata Login account is required to access data from NASA EOSDIS. In order to access data from the Harmony API, you will need to create an account in the Earthdata Login UAT environment. Please visit https://uat.urs.earthdata.nasa.gov to set up an account in this test environment. These accounts, as all Earthdata Login accounts, are free to create and only take a moment to set up.\n",
        "\n"
      ]
    },
    {
      "cell_type": "markdown",
      "metadata": {
        "id": "MxjqwYkgDUVE"
      },
      "source": [
        "We need some boilerplate up front to log in to Earthdata Login.  The function below will allow Python scripts to log into any Earthdata Login application programmatically.  To avoid being prompted for\n",
        "credentials every time you run and also allow clients such as curl to log in, you can add the following\n",
        "to a `.netrc` (`_netrc` on Windows) file in your home directory:\n",
        "\n",
        "```\n",
        "machine uat.urs.earthdata.nasa.gov\n",
        "    login <your username>\n",
        "    password <your password>\n",
        "```\n",
        "\n",
        "Make sure that this file is only readable by the current user or you will receive an error stating\n",
        "\"netrc access too permissive.\"\n",
        "\n",
        "`$ chmod 0600 ~/.netrc`\n"
      ]
    },
    {
      "cell_type": "code",
      "execution_count": 6,
      "metadata": {
        "id": "fKl407A3DUVF"
      },
      "outputs": [],
      "source": [
        "def setup_earthdata_login_auth(endpoint):\n",
        "    \"\"\"\n",
        "    Set up the request library so that it authenticates against the given Earthdata Login\n",
        "    endpoint and is able to track cookies between requests.  This looks in the .netrc file\n",
        "    first and if no credentials are found, it prompts for them.\n",
        "\n",
        "    Valid endpoints include:\n",
        "        uat.urs.earthdata.nasa.gov - Earthdata Login UAT (Harmony's current default)\n",
        "        urs.earthdata.nasa.gov - Earthdata Login production\n",
        "    \"\"\"\n",
        "    token = None\n",
        "    try:\n",
        "        username, _, password = netrc.netrc().authenticators(endpoint)\n",
        "    except (FileNotFoundError, TypeError):\n",
        "        # FileNotFound = There's no .netrc file\n",
        "        # TypeError = The endpoint isn't in the netrc file, causing the above to try unpacking None\n",
        "        print('Please provide your Earthdata Login credentials to allow data access')\n",
        "        print('Your credentials will only be passed to %s and will not be exposed in Jupyter' % (endpoint))\n",
        "        username = input('syedadnanbukhari63:')\n",
        "        print('WFnLyGWuQRK6@h8:')\n",
        "        password = getpass.getpass()\n",
        "\n",
        "    # Retrieve existing bearer token or generate a new one if none exists\n",
        "    basic_auth_string = f'{username}:{password}'\n",
        "    basic_auth_bytes = basic_auth_string.encode('ascii')\n",
        "    base64_bytes = b64encode(basic_auth_bytes)\n",
        "    base64_basic_auth = base64_bytes.decode('ascii')\n",
        "    try:\n",
        "        token_response = requests.get(f'https://{endpoint}/api/users/tokens', headers={'Authorization': f'Basic {base64_basic_auth}'})\n",
        "        token_response_json = token_response.json()\n",
        "        if token_response_json:\n",
        "            token = token_response_json[0]['access_token']\n",
        "        else:\n",
        "            token_response = requests.post(f'https://{endpoint}/api/users/token', headers={'Authorization': f'Basic {base64_basic_auth}'})\n",
        "            token_response_json = token_response.json()\n",
        "            token = token_response_json['access_token']\n",
        "    except:\n",
        "        print(f'Error: token response: {token_response_json}')\n",
        "\n",
        "    manager = request.HTTPPasswordMgrWithDefaultRealm()\n",
        "    manager.add_password(None, endpoint, username, password)\n",
        "    auth = request.HTTPBasicAuthHandler(manager)\n",
        "\n",
        "    jar = CookieJar()\n",
        "    processor = request.HTTPCookieProcessor(jar)\n",
        "    opener = request.build_opener(auth, processor)\n",
        "    request.install_opener(opener)\n",
        "    return token\n",
        "\n",
        "class BearerToken(requests.auth.AuthBase):\n",
        "    def __init__(self, token):\n",
        "        self.token = token\n",
        "    def __call__(self, r):\n",
        "        r.headers['Authorization'] = f'Bearer {self.token}'\n",
        "        return r"
      ]
    },
    {
      "cell_type": "markdown",
      "metadata": {
        "id": "kEWORAZ-DUVF"
      },
      "source": [
        "Now call the above function to set up Earthdata Login for subsequent requests"
      ]
    },
    {
      "cell_type": "code",
      "execution_count": 8,
      "metadata": {
        "id": "awEwSFfxDUVF",
        "outputId": "c2d0a49c-6433-4e19-c4f1-18df17260987",
        "colab": {
          "base_uri": "https://localhost:8080/"
        }
      },
      "outputs": [
        {
          "name": "stdout",
          "output_type": "stream",
          "text": [
            "Please provide your Earthdata Login credentials to allow data access\n",
            "Your credentials will only be passed to uat.urs.earthdata.nasa.gov and will not be exposed in Jupyter\n",
            "syedadnanbukhari63:syedadnanbukhari63\n",
            "WFnLyGWuQRK6@h8:\n",
            "··········\n"
          ]
        }
      ],
      "source": [
        "bearer_token = setup_earthdata_login_auth('uat.urs.earthdata.nasa.gov')\n",
        "\n",
        "def submit_request(url):\n",
        "    status_req = request.Request(url)\n",
        "    status_req.add_header('Authorization', f'Bearer {bearer_token}')\n",
        "\n",
        "    # Open the request and read the response\n",
        "    with request.urlopen(status_req) as response:\n",
        "        return response.read()\n",
        "\n",
        "def get_json_response(url):\n",
        "    response_data = submit_request(url)\n",
        "    return json.loads(response_data)"
      ]
    },
    {
      "cell_type": "markdown",
      "metadata": {
        "id": "09PqQ6iiDUVF"
      },
      "source": [
        "## Identify a data collection of interest\n",
        "\n",
        "A CMR collection ID is needed to request services through Harmony. The collection ID can be determined using the [CMR API](https://cmr.earthdata.nasa.gov/search/site/docs/search/api.html). We will query the corresponding ID of a known collection short name, `harmony_example`, which is a Level 3 test collection with transformation services available through Harmony."
      ]
    },
    {
      "cell_type": "code",
      "execution_count": 9,
      "metadata": {
        "tags": [],
        "id": "5ewwraEBDUVF",
        "outputId": "63c44ba0-89f3-4121-e876-ef4b64cf1a93",
        "colab": {
          "base_uri": "https://localhost:8080/"
        }
      },
      "outputs": [
        {
          "output_type": "stream",
          "name": "stdout",
          "text": [
            "C1234088182-EEDTEST\n"
          ]
        }
      ],
      "source": [
        "params = {\n",
        "    'short_name': 'harmony_example',\n",
        "    'version': 2\n",
        "} # parameter dictionary with known CMR short_name and version\n",
        "\n",
        "cmr_collections_url = 'https://cmr.uat.earthdata.nasa.gov/search/collections.json'\n",
        "query_string = parse.urlencode(params)\n",
        "url = cmr_collections_url + \"?\" + query_string\n",
        "cmr_response = request.urlopen(url)\n",
        "cmr_results = json.loads(cmr_response.read().decode('utf-8'))\n",
        "\n",
        "collectionlist = [el['id'] for el in cmr_results['feed']['entry']]\n",
        "harmony_collection_id = collectionlist[0]\n",
        "print(harmony_collection_id)"
      ]
    },
    {
      "cell_type": "markdown",
      "metadata": {
        "id": "mVKEjCLVDUVF"
      },
      "source": [
        "We can also view the `harmony_example` collection metadata to glean more information about the collection:"
      ]
    },
    {
      "cell_type": "code",
      "execution_count": 10,
      "metadata": {
        "scrolled": true,
        "tags": [],
        "id": "0fXWqs_VDUVF",
        "outputId": "2a641b72-c41c-4561-f017-c5889711f86b",
        "colab": {
          "base_uri": "https://localhost:8080/"
        }
      },
      "outputs": [
        {
          "output_type": "stream",
          "name": "stdout",
          "text": [
            "{'feed': {'entry': [{'association_details': {'services': [{'concept_id': 'S1237980031-EEDTEST'},\n",
            "                                                          {'concept_id': 'S1257851197-EEDTEST'},\n",
            "                                                          {'concept_id': 'S1245787332-EEDTEST'},\n",
            "                                                          {'concept_id': 'S1237974301-EEDTEST'}],\n",
            "                                             'variables': [{'concept_id': 'V1234088189-EEDTEST'},\n",
            "                                                           {'concept_id': 'V1234088187-EEDTEST'},\n",
            "                                                           {'concept_id': 'V1234088190-EEDTEST'},\n",
            "                                                           {'concept_id': 'V1234088188-EEDTEST'}]},\n",
            "                     'associations': {'services': ['S1237980031-EEDTEST',\n",
            "                                                   'S1257851197-EEDTEST',\n",
            "                                                   'S1245787332-EEDTEST',\n",
            "                                                   'S1237974301-EEDTEST'],\n",
            "                                      'variables': ['V1234088189-EEDTEST',\n",
            "                                                    'V1234088187-EEDTEST',\n",
            "                                                    'V1234088190-EEDTEST',\n",
            "                                                    'V1234088188-EEDTEST']},\n",
            "                     'browse_flag': False,\n",
            "                     'cloud_hosted': False,\n",
            "                     'data_center': 'EEDTEST',\n",
            "                     'dataset_id': 'Harmony Example Data v2',\n",
            "                     'entry_id': 'harmony_example_2',\n",
            "                     'has_combine': True,\n",
            "                     'has_formats': True,\n",
            "                     'has_spatial_subsetting': True,\n",
            "                     'has_temporal_subsetting': True,\n",
            "                     'has_transforms': True,\n",
            "                     'has_variables': True,\n",
            "                     'id': 'C1234088182-EEDTEST',\n",
            "                     'online_access_flag': False,\n",
            "                     'orbit_parameters': {},\n",
            "                     'original_format': 'ECHO10',\n",
            "                     'platforms': [],\n",
            "                     'service_features': {'esi': {'has_combine': False,\n",
            "                                                  'has_formats': False,\n",
            "                                                  'has_spatial_subsetting': False,\n",
            "                                                  'has_temporal_subsetting': False,\n",
            "                                                  'has_transforms': False,\n",
            "                                                  'has_variables': False},\n",
            "                                          'harmony': {'has_combine': True,\n",
            "                                                      'has_formats': True,\n",
            "                                                      'has_spatial_subsetting': True,\n",
            "                                                      'has_temporal_subsetting': True,\n",
            "                                                      'has_transforms': True,\n",
            "                                                      'has_variables': True},\n",
            "                                          'opendap': {'has_combine': False,\n",
            "                                                      'has_formats': False,\n",
            "                                                      'has_spatial_subsetting': False,\n",
            "                                                      'has_temporal_subsetting': False,\n",
            "                                                      'has_transforms': False,\n",
            "                                                      'has_variables': False}},\n",
            "                     'short_name': 'harmony_example',\n",
            "                     'summary': '    A collection to use in testing Harmony '\n",
            "                                'whose data have the following attributes, '\n",
            "                                'useful in testing current    and future '\n",
            "                                'Harmony work, ensuring that results come back '\n",
            "                                'correctly, and that metadata is preserved.    '\n",
            "                                '1. Granule data is very small, under 1MB, '\n",
            "                                'often well under 1MB    2. Data follows the '\n",
            "                                'outlines of the continents, making visual '\n",
            "                                'inspection easy    3. Data follows a '\n",
            "                                'consistent gradient, with hue differing '\n",
            "                                'slightly by granule in sequential temporal '\n",
            "                                'order from       blue/purple (oldest) to red '\n",
            "                                '(newest)    4. Files have color '\n",
            "                                'interpretation set, allowing for color '\n",
            "                                'output, if services preserve it    5. Files '\n",
            "                                'have 4 variables / bands    6. Data bands '\n",
            "                                'have descriptions set    Differences from '\n",
            "                                'v1:    1. Produced via the NetCDF4 API, with '\n",
            "                                'deliberate chunking of 16 chunks per '\n",
            "                                'variable    2. File custom metadata renamed '\n",
            "                                'to HarmonyHexColor, set to the central hex '\n",
            "                                \"value of the file's gradient, and HarmonyHue, \"\n",
            "                                'set to the numeric hue (0.0-1.0)    3. Each '\n",
            "                                'geographic area is separated to a different '\n",
            "                                'month with each sub-file as the same day of '\n",
            "                                'that month    4. File names are improved to '\n",
            "                                'have a year-month-day format  ',\n",
            "                     'time_start': '1970-06-26T00:00:00.000Z',\n",
            "                     'title': 'Harmony Example Data v2',\n",
            "                     'updated': '2000-01-01T00:00:00.000Z',\n",
            "                     'version_id': '2'}],\n",
            "          'id': 'https://cmr.uat.earthdata.nasa.gov:443/search/collections.json?short_name=harmony_example&version=2',\n",
            "          'title': 'ECHO dataset metadata',\n",
            "          'updated': '2024-11-19T06:33:29.385Z'}}\n"
          ]
        }
      ],
      "source": [
        "pprint.pprint(cmr_results)"
      ]
    },
    {
      "cell_type": "markdown",
      "metadata": {
        "id": "hyJ-gBtEDUVG"
      },
      "source": [
        "## Determine service availability\n",
        "\n",
        "We will determine what services are available for the `harmony_example` collection based on the Harmony capabilities endpoint."
      ]
    },
    {
      "cell_type": "code",
      "execution_count": 11,
      "metadata": {
        "scrolled": true,
        "tags": [],
        "id": "-XGOctc6DUVG",
        "outputId": "0f5238cc-eac3-48f8-88f9-e7bc83346f3c",
        "colab": {
          "base_uri": "https://localhost:8080/"
        }
      },
      "outputs": [
        {
          "output_type": "execute_result",
          "data": {
            "text/plain": [
              "[{'name': 'nasa/harmony-gdal-adapter',\n",
              "  'href': 'https://cmr.uat.earthdata.nasa.gov/search/concepts/S1245787332-EEDTEST',\n",
              "  'capabilities': {'subsetting': {'temporal': True,\n",
              "    'shape': True,\n",
              "    'bbox': True,\n",
              "    'variable': True,\n",
              "    'multiple_variable': True},\n",
              "   'output_formats': ['application/x-netcdf4', 'image/tiff'],\n",
              "   'reprojection': True}},\n",
              " {'name': 'harmony/netcdf-to-zarr',\n",
              "  'href': 'https://cmr.uat.earthdata.nasa.gov/search/concepts/S1237980031-EEDTEST',\n",
              "  'capabilities': {'concatenation': True,\n",
              "   'concatenate_by_default': False,\n",
              "   'subsetting': {'variable': False},\n",
              "   'output_formats': ['application/x-zarr']}},\n",
              " {'name': 'harmony/service-example',\n",
              "  'href': 'https://cmr.uat.earthdata.nasa.gov/search/concepts/S1257851197-EEDTEST',\n",
              "  'capabilities': {'subsetting': {'bbox': True,\n",
              "    'variable': True,\n",
              "    'multiple_variable': True},\n",
              "   'output_formats': ['image/tiff', 'image/png', 'image/gif'],\n",
              "   'reprojection': True}}]"
            ]
          },
          "metadata": {},
          "execution_count": 11
        }
      ],
      "source": [
        "capabilities_url = f'https://harmony.uat.earthdata.nasa.gov/capabilities?collectionId={harmony_collection_id}'\n",
        "capabilities = get_json_response(capabilities_url)\n",
        "capabilities['services']"
      ]
    },
    {
      "cell_type": "markdown",
      "metadata": {
        "id": "ajIC2DtaDUVG"
      },
      "source": [
        "According to the services.yml, our `harmony_example` collection is associated with the `harmony/gdal` service with bounding box and variable subsetting, reprojection, and reformatting. We will request these services below."
      ]
    },
    {
      "cell_type": "markdown",
      "metadata": {
        "id": "dv1NEMMsDUVG"
      },
      "source": [
        "## Explore the Harmony Root URL\n",
        "\n",
        "Harmony conforms to the OGC API - Coverages specification: https://github.com/opengeospatial/ogc_api_coverages.\n",
        "\n",
        "The basic Harmony URL convention is as follows:\n",
        "\n",
        "`<harmony_root>/<collection_id>/ogc-api-coverages/1.0.0/`\n",
        "\n",
        "We will set the Harmony root path with our chosen collection id:"
      ]
    },
    {
      "cell_type": "code",
      "execution_count": 12,
      "metadata": {
        "tags": [],
        "id": "JKE_hnclDUVG",
        "outputId": "a3a4f8ec-4e68-4950-af91-3c54630edf0e",
        "colab": {
          "base_uri": "https://localhost:8080/"
        }
      },
      "outputs": [
        {
          "output_type": "stream",
          "name": "stdout",
          "text": [
            "Request URL https://harmony.uat.earthdata.nasa.gov/C1234088182-EEDTEST/ogc-api-coverages/1.0.0/\n"
          ]
        }
      ],
      "source": [
        "harmony_root = 'https://harmony.uat.earthdata.nasa.gov'\n",
        "config = {\n",
        "    'collection_id': harmony_collection_id,\n",
        "    'ogc-api-coverages_version': '1.0.0'\n",
        "}\n",
        "coverages_root = harmony_root+'/{collection_id}/ogc-api-coverages/{ogc-api-coverages_version}/'.format(**config)\n",
        "print('Request URL', coverages_root)"
      ]
    },
    {
      "cell_type": "markdown",
      "metadata": {
        "id": "xs0tOEkADUVG"
      },
      "source": [
        "This root URL of the coverages endpoint provides links to its child resources:"
      ]
    },
    {
      "cell_type": "code",
      "execution_count": 13,
      "metadata": {
        "scrolled": true,
        "tags": [],
        "id": "J_fjlz6vDUVG",
        "outputId": "98a9013e-90bd-4679-f5d0-4580cb65f775",
        "colab": {
          "base_uri": "https://localhost:8080/"
        }
      },
      "outputs": [
        {
          "output_type": "stream",
          "name": "stdout",
          "text": [
            "{'links': [{'href': 'https://harmony.uat.earthdata.nasa.gov/C1234088182-EEDTEST/ogc-api-coverages/1.0.0/',\n",
            "            'rel': 'self',\n",
            "            'title': 'this document',\n",
            "            'type': 'application/json'},\n",
            "           {'href': 'https://harmony.uat.earthdata.nasa.gov/C1234088182-EEDTEST/ogc-api-coverages/1.0.0/api',\n",
            "            'rel': 'service-desc',\n",
            "            'title': 'the API definition',\n",
            "            'type': 'text/openapi+yaml;version=3.0'},\n",
            "           {'href': 'https://harmony.uat.earthdata.nasa.gov/C1234088182-EEDTEST/ogc-api-coverages/1.0.0/conformance',\n",
            "            'rel': 'conformance',\n",
            "            'title': 'OGC conformance classes implemented by this API',\n",
            "            'type': 'application/json'},\n",
            "           {'href': 'https://harmony.uat.earthdata.nasa.gov/C1234088182-EEDTEST/ogc-api-coverages/1.0.0/collections',\n",
            "            'rel': 'data',\n",
            "            'title': 'Metadata about the resource collections',\n",
            "            'type': 'application/json'}]}\n"
          ]
        }
      ],
      "source": [
        "root_json = get_json_response(coverages_root)\n",
        "pprint.pprint(root_json)"
      ]
    },
    {
      "cell_type": "markdown",
      "metadata": {
        "id": "V4zpnbiiDUVG"
      },
      "source": [
        "The `service_desc` endpoint contains OpenAPI documentation, including information on all supported request parameters:"
      ]
    },
    {
      "cell_type": "code",
      "execution_count": 14,
      "metadata": {
        "scrolled": true,
        "tags": [
          "outputPrepend"
        ],
        "id": "ruAwZ7QGDUVG",
        "outputId": "e8277133-33d8-4f77-8e35-9eb8ca8a1792",
        "colab": {
          "base_uri": "https://localhost:8080/"
        }
      },
      "outputs": [
        {
          "output_type": "stream",
          "name": "stdout",
          "text": [
            "b'openapi: 3.0.1\\ninfo:\\n  title: Harmony API conforming to OGC API - Coverages\\n  description:\\n    \"Harmony API for requesting coverages for a range of NASA EOSDIS data\\n    using thc OGC API - Coverages\"\\n  version: 1.0.0\\nservers:\\n  - url: /{cmrCollectionId}/ogc-api-coverages/1.0.0\\n    description: Harmony server\\n    variables:\\n      cmrCollectionId:\\n        default: C1234088182-EEDTEST\\n        description: The CMR Collection ID for the dataset whose coverage is being accessed\\ntags:\\n  - name: Capabilities\\n    description: Essential characteristics of this API including information about the data.\\n  - name: Coverage\\n    description: Access to data (coverage).\\npaths:\\n  /:\\n    get:\\n      tags:\\n        - Capabilities\\n      summary: landing page of this API\\n      description:\\n        The landing page provides links to the API definition, the Conformance\\n        statements and the metadata about the coverage data in this dataset.\\n      operationId: getLandingPage\\n      responses:\\n        \"200\":\\n          description: links to the API capabilities\\n          content:\\n            application/json:\\n              schema:\\n                $ref: \"#/components/schemas/root\"\\n        default:\\n          $ref: \"#/components/responses/default\"\\n  /api:\\n    get:\\n      tags:\\n        - OpenAPI\\n      summary: this OpenAPI Schema\\n      description: Returns the OpenAPI Schema for this coverage endpoint\\n      operationId: getSpecification\\n      responses:\\n        \"200\":\\n          description: this OpenAPI Schema\\n          content:\\n            \"text/openapi+yaml;version=3.0\":\\n              schema:\\n                type: string\\n        default:\\n          $ref: \"#/components/responses/default\"\\n  /conformance:\\n    get:\\n      tags:\\n        - Capabilities\\n      summary: information about standards that this API conforms to\\n      description: list all requirements classes specified in a standard\\n        that the server conforms to\\n      operationId: getRequirementsClasses\\n      responses:\\n        \"200\":\\n          description: the URIs of all requirements classes supported by the server\\n          content:\\n            application/json:\\n              schema:\\n                $ref: \"#/components/schemas/req-classes\"\\n        default:\\n          $ref: \"#/components/responses/default\"\\n  /collections:\\n    get:\\n      tags:\\n        - Capabilities\\n      summary: Describe the collections in the dataset\\n      operationId: describeCollections\\n      parameters:\\n        - name: limit\\n          in: query\\n          description: Not yet implemented\\n          required: false\\n          style: form\\n          explode: false\\n          schema:\\n            maximum: 10000\\n            minimum: 1\\n            type: integer\\n            default: 10\\n        - name: bbox\\n          in: query\\n          description: Not yet implemented\\n          required: false\\n          style: form\\n          explode: false\\n          schema:\\n            maxItems: 6\\n            minItems: 4\\n            type: array\\n            items:\\n              type: number\\n        - name: time\\n          in: query\\n          description: Not yet implemented\\n          required: false\\n          style: form\\n          explode: false\\n          schema:\\n            type: string\\n        - name: f\\n          in: query\\n          description: |\\n            The optional f parameter indicates the output format which the server shall provide as part of the response document. It has preference over the HTTP Accept header. The default format is JSON.\\n          required: false\\n          style: form\\n          explode: false\\n          schema:\\n            type: string\\n            default: json\\n            enum:\\n              - json\\n              - html\\n      responses:\\n        \"200\":\\n          description: Metadata about the collections shared by this API.\\n          content:\\n            application/json:\\n              schema:\\n                $ref: \"#/components/schemas/content\"\\n            text/html:\\n              schema:\\n                type: string\\n        default:\\n          $ref: \"#/components/responses/default\"\\n  /collections/{collectionId}:\\n    get:\\n      tags:\\n        - Capabilities\\n      summary: Describe the {collectionId} collection\\n      operationId: describeCollection\\n      parameters:\\n        - name: collectionId\\n          in: path\\n          description: Not yet implemented\\n          required: true\\n          style: simple\\n          explode: false\\n          schema:\\n            type: string\\n      responses:\\n        \"200\":\\n          description:\\n            Metadata about the {collectionId} collection shared by this\\n            API.\\n          content:\\n            application/json:\\n              schema:\\n                $ref: \"#/components/schemas/collectionInfo\"\\n            text/html:\\n              schema:\\n                type: string\\n        default:\\n          $ref: \"#/components/responses/default\"\\n  /collections/{collectionId}/coverage:\\n    get:\\n      tags:\\n        - Coverage\\n      summary:\\n        (Not yet implemented) description of the coverage offering identified by {collectionId} including\\n        envelope\\n      description: Not yet implemented\\n      operationId: getCoverageOffering\\n      parameters:\\n        - name: collectionId\\n          in: path\\n          description: Identifier (name) of a specific collection\\n          required: true\\n          style: simple\\n          explode: false\\n          schema:\\n            type: string\\n      responses:\\n        \"200\":\\n          description: Information about the coverage collection.\\n          content:\\n            application/json:\\n              schema:\\n                $ref: \"#/components/schemas/coverageOffering\"\\n            text/html:\\n              schema:\\n                type: string\\n        default:\\n          $ref: \"#/components/responses/default\"\\n  /collections/{collectionId}/coverage/description:\\n    get:\\n      tags:\\n        - Coverage\\n      summary:\\n        (Not yet implemented) returns the whole coverage description consisting of domainset, rangetype,\\n        and metadata (but not the rangeset)\\n      description: Not yet implemented\\n      operationId: getCoverageDescription\\n      parameters:\\n        - name: collectionId\\n          in: path\\n          description: Identifier (name) of a specific collection\\n          required: true\\n          style: simple\\n          explode: false\\n          schema:\\n            type: string\\n        - name: subset\\n          in: query\\n          description: Not yet implemented\\n          required: false\\n          style: form\\n          explode: true\\n          schema:\\n            type: string\\n      responses:\\n        \"200\":\\n          description: A coverage description.\\n          content:\\n            application/json:\\n              schema:\\n                $ref: \"#/components/schemas/coverageDescription\"\\n            text/html:\\n              schema:\\n                type: string\\n        default:\\n          $ref: \"#/components/responses/default\"\\n  /collections/{collectionId}/coverage/domainset:\\n    get:\\n      tags:\\n        - Coverage\\n      summary:\\n        (Not yet implemented) retrieve a coverages domainset; use content negotiation to request\\n        HTML or GeoJSON\\n      description: Not yet implemented\\n      operationId: getCoverageDomainSet\\n      parameters:\\n        - name: collectionId\\n          in: path\\n          description: Identifier (name) of a specific collection\\n          required: true\\n          style: simple\\n          explode: false\\n          schema:\\n            type: string\\n        - name: subset\\n          in: query\\n          description: Not yet implemented\\n          required: false\\n          style: form\\n          explode: true\\n          schema:\\n            type: string\\n      responses:\\n        \"200\":\\n          description: A coverages domainset.\\n          content:\\n            application/json:\\n              schema:\\n                $ref: http://schemas.opengis.net/cis/1.1/json/coverage-schema.json#/definitions/domainSet\\n            text/html:\\n              schema:\\n                type: string\\n        default:\\n          $ref: \"#/components/responses/default\"\\n  /collections/{collectionId}/coverage/rangetype:\\n    get:\\n      tags:\\n        - Coverage\\n      summary:\\n        (Not yet implemented) retrieve a coverage\\'s rangetype; use content negotiation to request\\n        HTML or GeoJSON\\n      description: Not yet implemented\\n      operationId: getCoverageRangeType\\n      parameters:\\n        - $ref: \"#/components/parameters/collectionId\"\\n      responses:\\n        \"200\":\\n          description: A coverage\\'s rangetype.\\n          content:\\n            application/geo+json:\\n              schema:\\n                $ref: http://schemas.opengis.net/cis/1.1/json/coverage-schema.json#/definitions/rangeType\\n            text/html:\\n              schema:\\n                type: string\\n        default:\\n          $ref: \"#/components/responses/default\"\\n  /collections/{collectionId}/coverage/metadata:\\n    get:\\n      tags:\\n        - Coverage\\n      summary:\\n        (Not yet implemented) retrieve a coverage\\'s metadata; use content negotiation to request\\n        HTML or GeoJSON\\n      description: Not yet implemented\\n      operationId: getCoverageMetadata\\n      parameters:\\n        - $ref: \"#/components/parameters/collectionId\"\\n      responses:\\n        \"200\":\\n          description: A coverage\\'s metadata.\\n          content:\\n            application/json:\\n              schema:\\n                $ref: \"#/components/schemas/coverageMetadata\"\\n            text/html:\\n              schema:\\n                type: string\\n        default:\\n          $ref: \"#/components/responses/default\"\\n  /collections/{collectionId}/coverage/rangeset:\\n    get:\\n      tags:\\n        - Coverage\\n      summary: Retrieve a coverage\\'s rangeset\\n      description: Retrieve the coverage\\'s rangeset, i.e. its data values in their native format\\n      operationId: getCoverageRangeset\\n      parameters:\\n        - $ref: \"#/components/parameters/collectionId\"\\n        - $ref: \"#/components/parameters/outputCrs\"\\n        - $ref: \"#/components/parameters/subset\"\\n        - $ref: \"#/components/parameters/interpolation\"\\n        - $ref: \"#/components/parameters/scaleExtent\"\\n        - $ref: \"#/components/parameters/scaleSize\"\\n        # Parameters below this line are not part of the OGC specification\\n        - $ref: \"#/components/parameters/concatenate\"\\n        - $ref: \"#/components/parameters/granuleId\"\\n        - $ref: \"#/components/parameters/point\"\\n        - $ref: \"#/components/parameters/width\"\\n        - $ref: \"#/components/parameters/height\"\\n        - $ref: \"#/components/parameters/format\"\\n        - $ref: \"#/components/parameters/forceAsync\"\\n        - $ref: \"#/components/parameters/maxResults\"\\n        - $ref: \"#/components/parameters/skipPreview\"\\n        - $ref: \"#/components/parameters/ignoreErrors\"\\n        - $ref: \"#/components/parameters/destinationUrl\"\\n        - $ref: \"#/components/parameters/granuleName\"\\n        - $ref: \"#/components/parameters/grid\"\\n        - $ref: \"#/components/parameters/extend\"\\n        - $ref: \"#/components/parameters/variable\"\\n        - $ref: \"#/components/parameters/average\"\\n        - $ref: \"#/components/parameters/label\"\\n      responses:\\n        \"200\":\\n          description: A coverage\\'s range set.\\n          content:\\n            image/*:\\n              schema:\\n                $ref: \"#/components/schemas/rangeSetImage\"\\n            application/*:\\n              schema:\\n                $ref: \"#/components/schemas/rangeSetImage\"\\n        default:\\n          $ref: \"#/components/responses/default\"\\n    post:\\n      tags:\\n        - Coverage\\n      summary: Retrieve a coverage\\'s rangeset\\n      description: Retrieve the coverage\\'s rangeset, i.e. its data values in their native format\\n      operationId: postCoverageRangeset\\n      parameters:\\n        - $ref: \"#/components/parameters/collectionId\"\\n        - $ref: \"#/components/parameters/outputCrs\"\\n        - $ref: \"#/components/parameters/subset\"\\n        - $ref: \"#/components/parameters/interpolation\"\\n        - $ref: \"#/components/parameters/scaleExtent\"\\n        - $ref: \"#/components/parameters/scaleSize\"\\n        # Parameters below this line are not part of the OGC specification\\n        - $ref: \"#/components/parameters/concatenate\"\\n        - $ref: \"#/components/parameters/granuleId\"\\n        - $ref: \"#/components/parameters/point\"\\n        - $ref: \"#/components/parameters/width\"\\n        - $ref: \"#/components/parameters/height\"\\n        - $ref: \"#/components/parameters/format\"\\n        - $ref: \"#/components/parameters/forceAsync\"\\n        - $ref: \"#/components/parameters/maxResults\"\\n        - $ref: \"#/components/parameters/skipPreview\"\\n        - $ref: \"#/components/parameters/ignoreErrors\"\\n        - $ref: \"#/components/parameters/destinationUrl\"\\n        - $ref: \"#/components/parameters/granuleName\"\\n        - $ref: \"#/components/parameters/grid\"\\n        - $ref: \"#/components/parameters/extend\"\\n        - $ref: \"#/components/parameters/variable\"\\n        - $ref: \"#/components/parameters/average\"\\n        - $ref: \"#/components/parameters/label\"\\n      requestBody:\\n        content:\\n          multipart/form-data:\\n            schema:\\n              type: object\\n              properties:\\n                shapefile:\\n                  type: string\\n                  format: binary\\n            encoding:\\n              shapefile:\\n                contentType: \"application/geo+json,application/shapefile+zip,application/vnd.google-earth.kml+xml\"\\n\\n      responses:\\n        \"200\":\\n          description: A coverage\\'s range set.\\n          content:\\n            image/*:\\n              schema:\\n                $ref: \"#/components/schemas/rangeSetImage\"\\n            application/*:\\n              schema:\\n                $ref: \"#/components/schemas/rangeSetImage\"\\n        default:\\n          $ref: \"#/components/responses/default\"\\n  /collections/{collectionId}/coverage/all:\\n    get:\\n      tags:\\n        - Coverage\\n      summary:\\n        (Not yet implemented) retrieve a coverages rangeset; use content negotiation to request HTML\\n        or GeoJSON\\n      description: Not yet implemented\\n      operationId: getCoverageAll\\n      parameters:\\n        - $ref: \"#/components/parameters/collectionId\"\\n        - $ref: \"#/components/parameters/subset\"\\n        - $ref: \"#/components/parameters/rangeSubset\"\\n        - $ref: \"#/components/parameters/scaleFactor\"\\n        - $ref: \"#/components/parameters/scaleAxis\"\\n        - $ref: \"#/components/parameters/scaleSize\"\\n        - $ref: \"#/components/parameters/scaleExtent\"\\n        - $ref: \"#/components/parameters/subsettingCrs\"\\n        - $ref: \"#/components/parameters/outputCrs\"\\n        - $ref: \"#/components/parameters/interpolation\"\\n      responses:\\n        \"200\":\\n          description: A full coverage.\\n          content:\\n            application/multipart+related:\\n              schema:\\n                $ref: \"#/components/schemas/coverageMultipart\"\\n            image/*:\\n              schema:\\n                $ref: \"#/components/schemas/rangeSetImage\"\\n            application/*:\\n              schema:\\n                $ref: \"#/components/schemas/rangeSetImage\"\\n            text/html:\\n              schema:\\n                type: string\\n        default:\\n          $ref: \"#/components/responses/default\"\\ncomponents:\\n  responses:\\n    default:\\n      description: An error occured.\\n      content:\\n        application/json:\\n          schema:\\n            $ref: \"#/components/schemas/exception\"\\n        text/html:\\n          schema:\\n            type: string\\n  schemas:\\n    exception:\\n      required:\\n        - code\\n      type: object\\n      properties:\\n        code:\\n          type: string\\n        description:\\n          type: string\\n    root:\\n      required:\\n        - links\\n      type: object\\n      properties:\\n        links:\\n          type: array\\n          example:\\n            - href: http://data.example.org/\\n              rel: self\\n              type: application/json\\n              title: this document\\n            - href: http://data.example.org/api\\n              rel: service\\n              type: application/openapi+json;version=3.0\\n              title: the API definition\\n            - href: http://data.example.org/conformance\\n              rel: conformance\\n              type: application/json\\n              title: OGC conformance classes implemented by this API\\n            - href: http://data.example.org/collections\\n              title: Metadata about the resource collections\\n          items:\\n            $ref: \"#/components/schemas/link\"\\n    req-classes:\\n      required:\\n        - conformsTo\\n      type: object\\n      properties:\\n        conformsTo:\\n          type: array\\n          example:\\n            - http://www.opengis.net/spec/ogcapi-common/1.0/conf/core\\n            - http://www.opengis.net/spec/ogcapi-common/1.0/conf/collections\\n            - http://www.opengis.net/spec/ogcapi-common/1.0/conf/oas3\\n            - http://www.opengis.net/spec/ogcapi-common/1.0/conf/html\\n            - http://www.opengis.net/spec/ogcapi-common/1.0/conf/geojson\\n            - http://www.opengis.net/spec/ogcapi-coverages/1.0/conf/core\\n          items:\\n            type: string\\n    link:\\n      required:\\n        - href\\n      type: object\\n      properties:\\n        href:\\n          type: string\\n        rel:\\n          type: string\\n          example: prev\\n        type:\\n          type: string\\n          example: application/geo+json\\n        hreflang:\\n          type: string\\n          example: en\\n    content:\\n      required:\\n        - collections\\n        - links\\n      type: object\\n      properties:\\n        links:\\n          type: array\\n          example:\\n            - href: http://data.example.org/collections.json\\n              rel: self\\n              type: application/json\\n              title: this document\\n            - href: http://data.example.org/collections.html\\n              rel: alternate\\n              type: text/html\\n              title: this document as HTML\\n            - href: http://schemas.example.org/1.0/foobar.xsd\\n              rel: describedBy\\n              type: application/xml\\n              title: XML schema for Acme Corporation data\\n          items:\\n            $ref: \"#/components/schemas/link\"\\n        collections:\\n          type: array\\n          items:\\n            $ref: \"#/components/schemas/collectionInfo\"\\n    collectionInfo:\\n      required:\\n        - links\\n        - name\\n      type: object\\n      properties:\\n        name:\\n          type: string\\n          description: identifier of the collection used, for example, in URIs\\n          example: buildings\\n        title:\\n          type: string\\n          description: human readable title of the collection\\n          example: Buildings\\n        description:\\n          type: string\\n          description: a description of the data in the collection\\n          example: Buildings in the city of Bonn.\\n        links:\\n          type: array\\n          example:\\n            - href: http://data.example.org/collections/buildings/items\\n              rel: item\\n              type: application/geo+json\\n              title: Buildings\\n            - href: http://example.org/concepts/building.html\\n              rel: describedBy\\n              type: text/html\\n              title: Coverage for buildings\\n          items:\\n            $ref: \"#/components/schemas/link\"\\n        extent:\\n          $ref: \"#/components/schemas/extent\"\\n        crs:\\n          type: array\\n          description:\\n            The coordinate reference systems in which geometries may be\\n            retrieved. Coordinate reference systems are identified by a URI. The first\\n            coordinate reference system is the coordinate reference system that is\\n            used by default. This is always \"http://www.opengis.net/def/crs/OGC/1.3/CRS84\",\\n            i.e. WGS84 longitude/latitude.\\n          items:\\n            type: string\\n          default:\\n            - http://www.opengis.net/def/crs/OGC/1.3/CRS84\\n    extent:\\n      type: object\\n      properties:\\n        crs:\\n          type: string\\n          description:\\n            Coordinate reference system of the coordinates in the spatial\\n            extent (property `spatial`). In the Core, only WGS84 longitude/latitude\\n            is supported. Extensions may support additional coordinate reference systems.\\n          default: http://www.opengis.net/def/crs/OGC/1.3/CRS84\\n          enum:\\n            - http://www.opengis.net/def/crs/OGC/1.3/CRS84\\n        spatial:\\n          maxItems: 6\\n          minItems: 4\\n          type: array\\n          description:\\n            West, north, east, south edges of the spatial extent. The minimum\\n            and maximum values apply to the coordinate reference system WGS84 longitude/latitude\\n            that is supported in the Core. If, for example, a projected coordinate\\n            reference system is used, the minimum and maximum values need to be adjusted.\\n          example:\\n            - -180\\n            - -90\\n            - 180\\n            - 90\\n          items:\\n            type: number\\n        trs:\\n          type: string\\n          description:\\n            Temporal reference system of the coordinates in the temporal\\n            extent (property `temporal`). In the Core, only the Gregorian calendar\\n            is supported. Extensions may support additional temporal reference systems.\\n          default: http://www.opengis.net/def/uom/ISO-8601/0/Gregorian\\n          enum:\\n            - http://www.opengis.net/def/uom/ISO-8601/0/Gregorian\\n        temporal:\\n          maxItems: 2\\n          minItems: 2\\n          type: array\\n          description: Begin and end times of the temporal extent.\\n          example:\\n            - 2011-11-11T12:22:11.000Z\\n            - 2012-11-24T12:32:43.000Z\\n          items:\\n            type: string\\n            format: dateTime\\n    coverageOffering:\\n      type: string\\n    coverageDescription:\\n      type: string\\n    coverageMetadata:\\n      type: string\\n    coverageMultipart:\\n      type: string\\n    rangeSetImage:\\n      type: string\\n  parameters:\\n    limit:\\n      name: limit\\n      in: query\\n      description: |\\n        The optional limit parameter limits the number of items that are\\n        presented in the response document.\\n\\n        Only items are counted that are on the first level of the collection in\\n        the response document. Nested objects contained within the explicitly\\n        requested items shall not be counted.\\n\\n        * Minimum = 1\\n        * Maximum = 10000\\n        * Default = 10\\n      required: false\\n      style: form\\n      explode: false\\n      schema:\\n        maximum: 10000\\n        minimum: 1\\n        type: integer\\n        default: 10\\n    bbox:\\n      name: bbox\\n      in: query\\n      description: |\\n        Only collections that have a geometry that intersects the bounding box are selected. The bounding box is provided as four or six numbers, depending on whether the coordinate reference system includes a vertical axis (elevation or depth):\\n        * Lower left corner, coordinate axis 1 * Lower left corner, coordinate axis 2 * Lower left corner, coordinate axis 3 (optional) * Upper right corner, coordinate axis 1 * Upper right corner, coordinate axis 2 * Upper right corner, coordinate axis 3 (optional)\\n        The coordinate reference system of the values is WGS84 longitude/latitude (http://www.opengis.net/def/crs/OGC/1.3/CRS84) unless a different coordinate reference system is specified in the parameter `bbox-crs`.\\n        For WGS84 longitude/latitude the values are in most cases the sequence of minimum longitude, minimum latitude, maximum longitude and maximum latitude. However, in cases where the box spans the antimeridian the first value (west-most box edge) is larger than the third value (east-most box edge).\\n        If a collection has multiple spatial geometry properties, it is the decision of the server whether only a single spatial geometry property is used to determine the extent or all relevant geometries.\\n      required: false\\n      style: form\\n      explode: false\\n      schema:\\n        maxItems: 6\\n        minItems: 4\\n        type: array\\n        items:\\n          type: number\\n    point:\\n      name: point\\n      in: query\\n      description: |\\n        Only collections that have a geometry that contains a spatial point are selected. The spatial point is provided as two numbers:\\n        * Longitude, coordinate axis 1 * Latitude, coordinate axis 2\\n        The coordinate reference system of the values is WGS84 longitude/latitude (http://www.opengis.net/def/crs/OGC/1.3/CRS84).\\n      required: false\\n      style: form\\n      explode: false\\n      schema:\\n        maxItems: 2\\n        minItems: 2\\n        type: array\\n        items:\\n          type: number\\n    time:\\n      name: time\\n      in: query\\n      description: |-\\n        Either a date-time or a period string that adheres to RFC 3339. Examples:\\n        * A date-time: \"2018-02-12T23:20:50Z\" * A period: \"2018-02-12T00:00:00Z/2018-03-18T12:31:12Z\" or \"2018-02-12T00:00:00Z/P1M6DT12H31M12S\"\\n        Only collections that have a temporal property that intersects the value of `time` are selected.\\n        If a collection has multiple temporal properties, it is the decision of the server whether only a single temporal property is used to determine the extent or all relevant temporal properties.\\n      required: false\\n      style: form\\n      explode: false\\n      schema:\\n        type: string\\n    collectionId:\\n      name: collectionId\\n      in: path\\n      description: |-\\n        Names or concept ids of the UMM-Var variables to be retrieved, or \"all\" to retrieve all variables within the CMR collection(s).\\n        Multiple variables may be retrieved by separating them with a comma.  This API interprets OGC \"collections\" to be\\n        equivalent to CMR \"variables\" which produces some overloading in the name.  In this document, a \"collection\" is\\n        a CMR / UMM-Var variable and a \"CMR collection\" is a CMR / UMM-C collection.\\n      required: true\\n      style: simple\\n      explode: false\\n      schema:\\n        type: string\\n    granuleId:\\n      name: granuleId\\n      in: query\\n      description: The CMR Granule ID for the granule which should be retrieved\\n      required: false\\n      style: form\\n      explode: true\\n      schema:\\n        type: array\\n        items:\\n          type: string\\n          minLength: 1\\n    subset:\\n      name: subset\\n      in: query\\n      description: \\'\\n        get a subset of the coverage by slicing or trimming among one axis.  Harmony supports\\n        the axes \"lat\" and \"lon\" for spatial subsetting, and \"time\" for temporal, regardless of the names\\n        of those axes in the data files. Harmony also supports arbitrary dimension names for subsetting\\n        on numeric ranges for that dimension.\\n\\n        Examples:\\n        - Subset to the lat/lon bounding box with southwest corner (-10, -10) and northeast corner (10, 10)\\n        subset=lat(-10:10)&subset=lon(-10:10)\\n        - Subset to all latitudes north of -10 degrees and all longitudes west of 10 degrees\\n        subset=lat(-10:*)&subset=lon(*:10)\\n        - Subset to only points with latitudes from -10 to 10 degrees, disregarding longitude\\n        subset=lat(-10:10)\\n        - Subset to the first month of 2020\\n        subset=time(\"2020-01-01T00:00:00Z\":\"2020-02-01T00:00:00Z\")\\n        - Subset on arbitrary dimension \"vertical\" with a value between 0 and 20\\n        subset=vertical(0:20)\\n\\n        For full syntax and examples, see\\n        https://github.com/opengeospatial/ogc_api_coverages/blob/master/standard/clause_9_subset.adoc\\'\\n      required: false\\n      style: form\\n      explode: true\\n      schema:\\n        type: array\\n        items:\\n          type: string\\n    rangeSubset:\\n      name: rangeSubset\\n      in: query\\n      description:\\n        subset the resulting coverage by choosing and/or rearrange particular\\n        fields\\n      required: false\\n      style: form\\n      explode: true\\n      schema:\\n        type: string\\n    scaleFactor:\\n      name: scaleFactor\\n      in: query\\n      description: scale the resulting coverage either among all axes by a given factor\\n      required: false\\n      style: form\\n      explode: true\\n      schema:\\n        type: string\\n    scaleAxis:\\n      name: scaleAxis\\n      in: query\\n      description: scale the resulting coverage either among one axis by a given factor\\n      required: false\\n      style: form\\n      explode: true\\n      schema:\\n        type: string\\n    scaleSize:\\n      name: scaleSize\\n      in: query\\n      description: scale the resulting coverage either among one axis to a given size\\n      required: false\\n      style: form\\n      explode: false\\n      schema:\\n        minItems: 2\\n        maxItems: 2\\n        type: array\\n        items:\\n          type: number\\n          minimum: 0\\n    scaleExtent:\\n      name: scaleExtent\\n      in: query\\n      description: scale the resulting coverage either among one axis to a given extent\\n      required: false\\n      style: form\\n      explode: false\\n      schema:\\n        minItems: 4\\n        maxItems: 4\\n        type: array\\n        items:\\n          type: number\\n    subsettingCrs:\\n      name: subsettingcrs\\n      in: query\\n      description: specify the projection in which the subsets are expressed\\n      required: false\\n      style: form\\n      explode: true\\n      schema:\\n        type: string\\n    outputCrs:\\n      name: outputcrs\\n      in: query\\n      description:\\n        reproject the output coverage to the given CRS.  Recognizes CRS types that can be inferred\\n        by gdal, including EPSG codes, Proj4 strings, and OGC URLs (http://www.opengis.net/def/crs/...)\\n      required: false\\n      style: form\\n      explode: true\\n      schema:\\n        type: string\\n    interpolation:\\n      name: interpolation\\n      in: query\\n      description: specify the interpolation method used during reprojection and scaling\\n      required: false\\n      style: form\\n      explode: true\\n      schema:\\n        type: string\\n    width:\\n      name: width\\n      in: query\\n      description: number of columns to return in the output coverage\\n      required: false\\n      schema:\\n        type: integer\\n        minimum: 1\\n    height:\\n      name: height\\n      in: query\\n      description: number of rows to return in the output coverage\\n      required: false\\n      schema:\\n        type: integer\\n        minimum: 1\\n    format:\\n      name: format\\n      in: query\\n      description: the output mime type to return\\n      required: false\\n      schema:\\n        type: string\\n        example:\\n          - \"application/x-zarr\"\\n          - \"image/tiff\"\\n          - \"image/png\"\\n    forceAsync:\\n      name: forceAsync\\n      in: query\\n      description: if \"true\", override the default API behavior and always treat the request as asynchronous\\n      required: false\\n      schema:\\n        type: boolean\\n    maxResults:\\n      name: maxResults\\n      in: query\\n      description: limits the number of input granules processed in the request\\n      required: false\\n      schema:\\n        type: integer\\n        minimum: 1\\n    concatenate:\\n      name: concatenate\\n      in: query\\n      description: requests results to be concatenated into a single result\\n      required: false\\n      schema:\\n        type: string\\n    skipPreview:\\n      name: skipPreview\\n      in: query\\n      description: if \"true\", override the default API behavior and never auto-pause jobs\\n      required: false\\n      schema:\\n        type: boolean\\n    ignoreErrors:\\n      name: ignoreErrors\\n      in: query\\n      description: |\\n        if \"true\", continue processing a request to completion even if some items fail. If \"false\",\\n        immediately fail the request on the first failure. Defaults to true.\\n      required: false\\n      schema:\\n        type: boolean\\n    destinationUrl:\\n      name: destinationUrl\\n      in: query\\n      description: |\\n        destination url specified by the client, currently only s3 link url is supported\\n        (e.g. s3://my-bucket-name/mypath) and will result in the job being run asynchronously\\n      required: false\\n      schema:\\n        type: string\\n    granuleName:\\n      name: granuleName\\n      in: query\\n      description: |\\n        passed to the CMR search as the readable_granule_name parameter. Supports * and ? wildcards\\n        for multiple and single character matches. Wildcards can be used any place in the name,\\n        but leading wildcards are discouraged as they require a lot of resources for the underlying\\n        search.\\n      required: false\\n      style: form\\n      explode: true\\n      schema:\\n        type: array\\n        items:\\n          type: string\\n          minLength: 1\\n    grid:\\n      name: grid\\n      in: query\\n      description: |\\n        the name of the output grid to use for regridding requests. The name must match the UMM\\n        grid name in the CMR.\\n      required: false\\n      schema:\\n        type: string\\n    extend:\\n      name: extend\\n      in: query\\n      description: |\\n        the name or concept id of the variable to extend\\n      required: false\\n      schema:\\n        type: string\\n    variable:\\n      name: variable\\n      in: query\\n      description: |\\n        the names or concept ids of the variables to subset\\n      required: false\\n      style: form\\n      explode: true\\n      schema:\\n        type: array\\n        items:\\n          type: string\\n          minLength: 1\\n    average:\\n      name: average\\n      in: query\\n      description: |\\n        requests the data to be averaged over time or area\\n      required: false\\n      schema:\\n        type: string\\n    label:\\n      name: label\\n      in: query\\n      description: |\\n        the labels for the job\\n      required: false\\n      style: form\\n      explode: true\\n      schema:\\n        type: array\\n        items:\\n          type: string\\n          minLength: 1'\n"
          ]
        }
      ],
      "source": [
        "service_desc = harmony_root+'/{collection_id}/ogc-api-coverages/{ogc-api-coverages_version}/api/'.format(**config)\n",
        "service_txt = submit_request(service_desc)\n",
        "print(service_txt)"
      ]
    },
    {
      "cell_type": "markdown",
      "metadata": {
        "id": "Nf-2sdHbDUVG"
      },
      "source": [
        "The `conformance` endpoint provides the specifications this API conforms to:"
      ]
    },
    {
      "cell_type": "code",
      "execution_count": 15,
      "metadata": {
        "tags": [],
        "id": "oqejW_pMDUVG",
        "outputId": "40b5ea9f-45da-41e2-e963-3b0cc3043922",
        "colab": {
          "base_uri": "https://localhost:8080/"
        }
      },
      "outputs": [
        {
          "output_type": "stream",
          "name": "stdout",
          "text": [
            "{'conformsTo': ['http://www.opengis.net/spec/ogcapi-common-1/1.0/conf/core', 'http://www.opengis.net/spec/ogcapi-common-1/1.0/conf/collections', 'http://www.opengis.net/spec/ogcapi-coverages-1/1.0/conf/core']}\n"
          ]
        }
      ],
      "source": [
        "conform_desc = harmony_root+'/{collection_id}/ogc-api-coverages/{ogc-api-coverages_version}/conformance/'.format(**config)\n",
        "conform_json = get_json_response(conform_desc)\n",
        "print(conform_json)"
      ]
    },
    {
      "cell_type": "markdown",
      "metadata": {
        "id": "n4hGZhwyDUVG"
      },
      "source": [
        "The `collections` endpoint provides metadata on the resource collections, which include variable metadata from CMR's [UMM-Var schema](https://git.earthdata.nasa.gov/projects/EMFD/repos/unified-metadata-model/browse/variable) in this example:"
      ]
    },
    {
      "cell_type": "code",
      "execution_count": 16,
      "metadata": {
        "scrolled": true,
        "tags": [],
        "id": "BWKVy2rLDUVG",
        "outputId": "89460d0a-6014-47d5-87bc-58ae2adcdfc4",
        "colab": {
          "base_uri": "https://localhost:8080/"
        }
      },
      "outputs": [
        {
          "output_type": "stream",
          "name": "stdout",
          "text": [
            "{'collections': [{'description': 'All variables harmony_example v2 (EEDTEST)',\n",
            "                  'extent': {'temporal': {'interval': ['1970-06-26T00:00:00.000Z',\n",
            "                                                       None],\n",
            "                                          'trs': 'http://www.opengis.net/def/uom/ISO-8601/0/Gregorian'}},\n",
            "                  'id': 'C1234088182-EEDTEST/all',\n",
            "                  'itemType': 'Variable',\n",
            "                  'links': [{'href': 'https://harmony.uat.earthdata.nasa.gov/C1234088182-EEDTEST/ogc-api-coverages/1.0.0/collections/all/coverage/rangeset',\n",
            "                             'title': 'Perform rangeset request for all'}],\n",
            "                  'title': 'all harmony_example v2'},\n",
            "                 {'description': 'Alpha Channel harmony_example v2 (EEDTEST)',\n",
            "                  'extent': {'temporal': {'interval': ['1970-06-26T00:00:00.000Z',\n",
            "                                                       None],\n",
            "                                          'trs': 'http://www.opengis.net/def/uom/ISO-8601/0/Gregorian'}},\n",
            "                  'id': 'C1234088182-EEDTEST/V1234088190-EEDTEST',\n",
            "                  'itemType': 'Variable',\n",
            "                  'links': [{'href': 'https://harmony.uat.earthdata.nasa.gov/C1234088182-EEDTEST/ogc-api-coverages/1.0.0/collections/alpha_var/coverage/rangeset',\n",
            "                             'title': 'Perform rangeset request for '\n",
            "                                      'alpha_var'}],\n",
            "                  'title': 'alpha_var harmony_example v2'},\n",
            "                 {'description': 'Blue Channel harmony_example v2 (EEDTEST)',\n",
            "                  'extent': {'temporal': {'interval': ['1970-06-26T00:00:00.000Z',\n",
            "                                                       None],\n",
            "                                          'trs': 'http://www.opengis.net/def/uom/ISO-8601/0/Gregorian'}},\n",
            "                  'id': 'C1234088182-EEDTEST/V1234088189-EEDTEST',\n",
            "                  'itemType': 'Variable',\n",
            "                  'links': [{'href': 'https://harmony.uat.earthdata.nasa.gov/C1234088182-EEDTEST/ogc-api-coverages/1.0.0/collections/blue_var/coverage/rangeset',\n",
            "                             'title': 'Perform rangeset request for blue_var'}],\n",
            "                  'title': 'blue_var harmony_example v2'},\n",
            "                 {'description': 'Green Channel harmony_example v2 (EEDTEST)',\n",
            "                  'extent': {'temporal': {'interval': ['1970-06-26T00:00:00.000Z',\n",
            "                                                       None],\n",
            "                                          'trs': 'http://www.opengis.net/def/uom/ISO-8601/0/Gregorian'}},\n",
            "                  'id': 'C1234088182-EEDTEST/V1234088188-EEDTEST',\n",
            "                  'itemType': 'Variable',\n",
            "                  'links': [{'href': 'https://harmony.uat.earthdata.nasa.gov/C1234088182-EEDTEST/ogc-api-coverages/1.0.0/collections/green_var/coverage/rangeset',\n",
            "                             'title': 'Perform rangeset request for '\n",
            "                                      'green_var'}],\n",
            "                  'title': 'green_var harmony_example v2'},\n",
            "                 {'description': 'Red Channel harmony_example v2 (EEDTEST)',\n",
            "                  'extent': {'temporal': {'interval': ['1970-06-26T00:00:00.000Z',\n",
            "                                                       None],\n",
            "                                          'trs': 'http://www.opengis.net/def/uom/ISO-8601/0/Gregorian'}},\n",
            "                  'id': 'C1234088182-EEDTEST/V1234088187-EEDTEST',\n",
            "                  'itemType': 'Variable',\n",
            "                  'links': [{'href': 'https://harmony.uat.earthdata.nasa.gov/C1234088182-EEDTEST/ogc-api-coverages/1.0.0/collections/red_var/coverage/rangeset',\n",
            "                             'title': 'Perform rangeset request for red_var'}],\n",
            "                  'title': 'red_var harmony_example v2'}],\n",
            " 'links': [{'href': 'https://harmony.uat.earthdata.nasa.gov/C1234088182-EEDTEST/ogc-api-coverages/1.0.0',\n",
            "            'rel': 'root',\n",
            "            'title': 'OGC coverages API root for harmony_example v2',\n",
            "            'type': 'application/json'},\n",
            "           {'href': 'https://harmony.uat.earthdata.nasa.gov/C1234088182-EEDTEST/ogc-api-coverages/1.0.0/collections',\n",
            "            'rel': 'self',\n",
            "            'title': 'Collections listing for harmony_example v2',\n",
            "            'type': 'application/json'}]}\n"
          ]
        }
      ],
      "source": [
        "collections_desc = harmony_root+'/{collection_id}/ogc-api-coverages/{ogc-api-coverages_version}/collections/'.format(**config)\n",
        "collections_json = get_json_response(collections_desc)\n",
        "pprint.pprint(collections_json)"
      ]
    },
    {
      "cell_type": "markdown",
      "metadata": {
        "id": "P1jshfx_DUVG"
      },
      "source": [
        "## Access native data without transformation services"
      ]
    },
    {
      "cell_type": "markdown",
      "metadata": {
        "id": "3uUbnF2-DUVG"
      },
      "source": [
        "For EOSDIS collections without associated Harmony transformation services, the Harmony API can still be utilized to access data through the provided data access links. Before we request services for `harmony_example`, We will use `MYD13Q1`, or the \"MODIS/Aqua Vegetation Indices 16-Day L3 Global 250m SIN Grid V061\" data product, as an example of this \"no processing\" request.\n",
        "\n",
        "The URL for requesting `MYD13Q1` is printed below. In this simple case, the entire data product is requested. The request response is also printed below, which includes information such as JobID, data access links, associated granule IDs, request messages, and status:"
      ]
    },
    {
      "cell_type": "code",
      "execution_count": 17,
      "metadata": {
        "scrolled": true,
        "tags": [],
        "id": "ncXyE5bJDUVG",
        "outputId": "ae6688fe-5bd6-476c-8f6f-1232bd319a07",
        "colab": {
          "base_uri": "https://localhost:8080/"
        }
      },
      "outputs": [
        {
          "output_type": "stream",
          "name": "stdout",
          "text": [
            "Request URL https://harmony.uat.earthdata.nasa.gov/C1256583785-EEDTEST/ogc-api-coverages/1.0.0/collections/all/coverage/rangeset?skipPreview=true&maxResults=10\n",
            "Result URL https://harmony.uat.earthdata.nasa.gov/jobs/9ea3f911-db21-403e-9d8a-95c6ac7810a6\n",
            "Waiting for 10 seconds before retrying...\n",
            "status: successful\n",
            "{'createdAt': '2024-11-19T06:34:23.984Z',\n",
            " 'dataExpiration': '2024-12-19T06:34:23.984Z',\n",
            " 'jobID': '9ea3f911-db21-403e-9d8a-95c6ac7810a6',\n",
            " 'labels': [],\n",
            " 'links': [{'href': 'https://harmony.uat.earthdata.nasa.gov/stac/9ea3f911-db21-403e-9d8a-95c6ac7810a6/',\n",
            "            'rel': 'stac-catalog-json',\n",
            "            'title': 'STAC catalog',\n",
            "            'type': 'application/json'},\n",
            "           {'bbox': [-58.79998379, 59.60872512, -19.75266974, 70.62458245],\n",
            "            'href': 'https://harmony.uat.earthdata.nasa.gov/service-results/harmony-uat-eedtest-data/C1256583785-EEDTEST/MYD13Q1.A2021361.h16v02.061.2022010000942.hdf',\n",
            "            'rel': 'data',\n",
            "            'temporal': {'end': '2022-01-11T23:59:59.000Z',\n",
            "                         'start': '2021-12-27T00:00:00.000Z'},\n",
            "            'title': 'MYD13Q1.A2021361.h16v02.061.2022010000942.hdf'},\n",
            "           {'bbox': [-142.15972565, -10.04851926, -129.50553342, 0.01305823],\n",
            "            'href': 'https://harmony.uat.earthdata.nasa.gov/service-results/harmony-uat-eedtest-data/C1256583785-EEDTEST/MYD13Q1.A2021361.h04v09.061.2022010000917.hdf',\n",
            "            'rel': 'data',\n",
            "            'temporal': {'end': '2022-01-11T23:59:59.000Z',\n",
            "                         'start': '2021-12-27T00:00:00.000Z'},\n",
            "            'title': 'MYD13Q1.A2021361.h04v09.061.2022010000917.hdf'},\n",
            "           {'bbox': [-115.47005382, -30.16005612, -95.43055202, -19.89044988],\n",
            "            'href': 'https://harmony.uat.earthdata.nasa.gov/service-results/harmony-uat-eedtest-data/C1256583785-EEDTEST/MYD13Q1.A2021361.h08v11.061.2022009235905.hdf',\n",
            "            'rel': 'data',\n",
            "            'temporal': {'end': '2022-01-11T23:59:59.000Z',\n",
            "                         'start': '2021-12-27T00:00:00.000Z'},\n",
            "            'title': 'MYD13Q1.A2021361.h08v11.061.2022009235905.hdf'},\n",
            "           {'bbox': [179.66043092, -30.76215199, -159.14261945, -19.34876323],\n",
            "            'href': 'https://harmony.uat.earthdata.nasa.gov/service-results/harmony-uat-eedtest-data/C1256583785-EEDTEST/MYD13Q1.A2021361.h02v11.061.2022010000859.hdf',\n",
            "            'rel': 'data',\n",
            "            'temporal': {'end': '2022-01-11T23:59:59.000Z',\n",
            "                         'start': '2021-12-27T00:00:00.000Z'},\n",
            "            'title': 'MYD13Q1.A2021361.h02v11.061.2022010000859.hdf'},\n",
            "           {'bbox': [-152.31399177, -10.04929951, -139.46821263, 0.01403111],\n",
            "            'href': 'https://harmony.uat.earthdata.nasa.gov/service-results/harmony-uat-eedtest-data/C1256583785-EEDTEST/MYD13Q1.A2021361.h03v09.061.2022009235950.hdf',\n",
            "            'rel': 'data',\n",
            "            'temporal': {'end': '2022-01-11T23:59:59.000Z',\n",
            "                         'start': '2021-12-27T00:00:00.000Z'},\n",
            "            'title': 'MYD13Q1.A2021361.h03v09.061.2022009235950.hdf'},\n",
            "           {'bbox': [-161.65807535, -30.17440435, -137.9291811, -19.87570711],\n",
            "            'href': 'https://harmony.uat.earthdata.nasa.gov/service-results/harmony-uat-eedtest-data/C1256583785-EEDTEST/MYD13Q1.A2021361.h04v11.061.2022010000830.hdf',\n",
            "            'rel': 'data',\n",
            "            'temporal': {'end': '2022-01-11T23:59:59.000Z',\n",
            "                         'start': '2021-12-27T00:00:00.000Z'},\n",
            "            'title': 'MYD13Q1.A2021361.h04v11.061.2022010000830.hdf'},\n",
            "           {'bbox': [-148.98488813, -20.10808997, -131.5184168, -9.93538986],\n",
            "            'href': 'https://harmony.uat.earthdata.nasa.gov/service-results/harmony-uat-eedtest-data/C1256583785-EEDTEST/MYD13Q1.A2021361.h04v10.061.2022010000918.hdf',\n",
            "            'rel': 'data',\n",
            "            'temporal': {'end': '2022-01-11T23:59:59.000Z',\n",
            "                         'start': '2021-12-27T00:00:00.000Z'},\n",
            "            'title': 'MYD13Q1.A2021361.h04v10.061.2022010000918.hdf'},\n",
            "           {'bbox': [179.77244842, 49.91536358, -170.90227164, 52.41548387],\n",
            "            'href': 'https://harmony.uat.earthdata.nasa.gov/service-results/harmony-uat-eedtest-data/C1256583785-EEDTEST/MYD13Q1.A2021361.h06v03.061.2022010000745.hdf',\n",
            "            'rel': 'data',\n",
            "            'temporal': {'end': '2022-01-11T23:59:59.000Z',\n",
            "                         'start': '2021-12-27T00:00:00.000Z'},\n",
            "            'title': 'MYD13Q1.A2021361.h06v03.061.2022010000745.hdf'},\n",
            "           {'bbox': [-138.34311041, -20.10585669, -121.39812953, -9.93757481],\n",
            "            'href': 'https://harmony.uat.earthdata.nasa.gov/service-results/harmony-uat-eedtest-data/C1256583785-EEDTEST/MYD13Q1.A2021361.h05v10.061.2022010000840.hdf',\n",
            "            'rel': 'data',\n",
            "            'temporal': {'end': '2022-01-11T23:59:59.000Z',\n",
            "                         'start': '2021-12-27T00:00:00.000Z'},\n",
            "            'title': 'MYD13Q1.A2021361.h05v10.061.2022010000840.hdf'},\n",
            "           {'bbox': [-29.23804399, 59.62391371, 0.05914707, 70.60760589],\n",
            "            'href': 'https://harmony.uat.earthdata.nasa.gov/service-results/harmony-uat-eedtest-data/C1256583785-EEDTEST/MYD13Q1.A2021361.h17v02.061.2022010000936.hdf',\n",
            "            'rel': 'data',\n",
            "            'temporal': {'end': '2022-01-11T23:59:59.000Z',\n",
            "                         'start': '2021-12-27T00:00:00.000Z'},\n",
            "            'title': 'MYD13Q1.A2021361.h17v02.061.2022010000936.hdf'},\n",
            "           {'href': 'https://harmony.uat.earthdata.nasa.gov/jobs/9ea3f911-db21-403e-9d8a-95c6ac7810a6?page=1&limit=2000',\n",
            "            'rel': 'self',\n",
            "            'title': 'The current page',\n",
            "            'type': 'application/json'}],\n",
            " 'message': 'CMR query identified 100 granules, but the request has been '\n",
            "            'limited to process only the first 10 granules because you '\n",
            "            'requested 10 maxResults.',\n",
            " 'numInputGranules': 10,\n",
            " 'progress': 100,\n",
            " 'request': 'https://harmony.uat.earthdata.nasa.gov/C1256583785-EEDTEST/ogc-api-coverages/1.0.0/collections/all/coverage/rangeset?skipPreview=true&maxResults=10',\n",
            " 'status': 'successful',\n",
            " 'updatedAt': '2024-11-19T06:34:25.549Z',\n",
            " 'username': 'syedadnanbukhari63'}\n"
          ]
        }
      ],
      "source": [
        "def wait_for_job_completion(job_status_url):\n",
        "    while True:\n",
        "        try:\n",
        "            response_json = get_json_response(job_status_url)\n",
        "            status = response_json.get('status')\n",
        "\n",
        "            if status != 'previewing' and status != 'running':\n",
        "                print(f\"status: {status}\")\n",
        "                return response_json\n",
        "            else:\n",
        "                print(\"Waiting for 10 seconds before retrying...\")\n",
        "                time.sleep(10)\n",
        "\n",
        "        except Exception as e:\n",
        "            print(f\"An error occurred: {e}\")\n",
        "            break\n",
        "\n",
        "noProcConfig = {\n",
        "    'is2collection_id': 'C1256583785-EEDTEST',\n",
        "    'ogc-api-coverages_version': '1.0.0'\n",
        "}\n",
        "\n",
        "no_proc_url = harmony_root+'/{is2collection_id}/ogc-api-coverages/{ogc-api-coverages_version}/collections/all/coverage/rangeset?skipPreview=true&maxResults=10'.format(**noProcConfig)\n",
        "print('Request URL', no_proc_url)\n",
        "\n",
        "req = request.Request(no_proc_url)\n",
        "req.add_header('Authorization', f'Bearer {bearer_token}')\n",
        "\n",
        "with request.urlopen(req) as response:\n",
        "    no_proc_results = response.read()\n",
        "    result_url = response.geturl()\n",
        "    print('Result URL', result_url)\n",
        "\n",
        "no_proc_json = wait_for_job_completion(result_url)\n",
        "pprint.pprint(no_proc_json)"
      ]
    },
    {
      "cell_type": "markdown",
      "metadata": {
        "id": "2adEtTqEDUVH"
      },
      "source": [
        "Note that the request located all granules available in that collection.  We can pull those data access links from the request response:"
      ]
    },
    {
      "cell_type": "code",
      "execution_count": 18,
      "metadata": {
        "tags": [],
        "id": "fn8IOXh_DUVH",
        "outputId": "02ea15b8-8753-402f-a5dc-4257c4a68d82",
        "colab": {
          "base_uri": "https://localhost:8080/"
        }
      },
      "outputs": [
        {
          "output_type": "stream",
          "name": "stdout",
          "text": [
            "https://harmony.uat.earthdata.nasa.gov/stac/9ea3f911-db21-403e-9d8a-95c6ac7810a6/\n",
            "https://harmony.uat.earthdata.nasa.gov/service-results/harmony-uat-eedtest-data/C1256583785-EEDTEST/MYD13Q1.A2021361.h16v02.061.2022010000942.hdf\n",
            "https://harmony.uat.earthdata.nasa.gov/service-results/harmony-uat-eedtest-data/C1256583785-EEDTEST/MYD13Q1.A2021361.h04v09.061.2022010000917.hdf\n",
            "https://harmony.uat.earthdata.nasa.gov/service-results/harmony-uat-eedtest-data/C1256583785-EEDTEST/MYD13Q1.A2021361.h08v11.061.2022009235905.hdf\n",
            "https://harmony.uat.earthdata.nasa.gov/service-results/harmony-uat-eedtest-data/C1256583785-EEDTEST/MYD13Q1.A2021361.h02v11.061.2022010000859.hdf\n",
            "https://harmony.uat.earthdata.nasa.gov/service-results/harmony-uat-eedtest-data/C1256583785-EEDTEST/MYD13Q1.A2021361.h03v09.061.2022009235950.hdf\n",
            "https://harmony.uat.earthdata.nasa.gov/service-results/harmony-uat-eedtest-data/C1256583785-EEDTEST/MYD13Q1.A2021361.h04v11.061.2022010000830.hdf\n",
            "https://harmony.uat.earthdata.nasa.gov/service-results/harmony-uat-eedtest-data/C1256583785-EEDTEST/MYD13Q1.A2021361.h04v10.061.2022010000918.hdf\n",
            "https://harmony.uat.earthdata.nasa.gov/service-results/harmony-uat-eedtest-data/C1256583785-EEDTEST/MYD13Q1.A2021361.h06v03.061.2022010000745.hdf\n",
            "https://harmony.uat.earthdata.nasa.gov/service-results/harmony-uat-eedtest-data/C1256583785-EEDTEST/MYD13Q1.A2021361.h05v10.061.2022010000840.hdf\n",
            "https://harmony.uat.earthdata.nasa.gov/service-results/harmony-uat-eedtest-data/C1256583785-EEDTEST/MYD13Q1.A2021361.h17v02.061.2022010000936.hdf\n",
            "https://harmony.uat.earthdata.nasa.gov/jobs/9ea3f911-db21-403e-9d8a-95c6ac7810a6?page=1&limit=2000\n"
          ]
        }
      ],
      "source": [
        "links = no_proc_json['links'] #list of links from response\n",
        "\n",
        "for i in range(len(links)):\n",
        "    link_dict = links[i]\n",
        "    print(link_dict['href'])"
      ]
    },
    {
      "cell_type": "markdown",
      "metadata": {
        "id": "a7gW-UYkDUVH"
      },
      "source": [
        "Follow the link href to download a granule and the single file output is downloaded to a directory with write permissions:"
      ]
    },
    {
      "cell_type": "code",
      "execution_count": 19,
      "metadata": {
        "id": "5LF9gx33DUVH"
      },
      "outputs": [],
      "source": [
        "single_dict = links[1]\n",
        "file_url = single_dict['href']\n",
        "\n",
        "file_response = request.urlopen(file_url)\n",
        "file_results = file_response.read()\n",
        "\n",
        "# Write data to file\n",
        "file_name = 'harmonyNoProc.h5'\n",
        "filepath = str(local_dir+file_name)\n",
        "file_ = open(filepath, 'wb')\n",
        "file_.write(file_results)\n",
        "file_.close()"
      ]
    },
    {
      "cell_type": "markdown",
      "metadata": {
        "id": "CHZvJAi5DUVI"
      },
      "source": [
        "## Access data subsetted by variable\n",
        "\n",
        "Now we'll move into some subsetting examples with the `harmony_example` collection, beginning with a basic variable subset of a single pre-determined granule with global coverage. The variable request is included in the URL below as a /collections path. As stated in the API documentation, \"This API interprets OGC 'collections' to be equivalent to CMR 'variables'\". Unlike the no processing requests above, this result will be returned synchronously to us. By default, any single granule request that has associated Harmony services will be returned synchronously."
      ]
    },
    {
      "cell_type": "code",
      "execution_count": 20,
      "metadata": {
        "tags": [],
        "id": "cPGLHpmLDUVI",
        "outputId": "932fa7f2-14b6-469e-de88-a64171529996",
        "colab": {
          "base_uri": "https://localhost:8080/"
        }
      },
      "outputs": [
        {
          "output_type": "stream",
          "name": "stdout",
          "text": [
            "Request URL https://harmony.uat.earthdata.nasa.gov/C1234088182-EEDTEST/ogc-api-coverages/1.0.0/collections/blue_var/coverage/rangeset?granuleid=G1234088196-EEDTEST\n"
          ]
        }
      ],
      "source": [
        "granule_id = 'G1234088196-EEDTEST'\n",
        "varSubsetConfig = {\n",
        "    'collection_id': harmony_collection_id,\n",
        "    'ogc-api-coverages_version': '1.0.0',\n",
        "    'variable': 'blue_var',\n",
        "    'granuleid': granule_id\n",
        "}\n",
        "var_url = harmony_root+'/{collection_id}/ogc-api-coverages/{ogc-api-coverages_version}/collections/{variable}/coverage/rangeset?granuleid={granuleid}'.format(**varSubsetConfig)\n",
        "print('Request URL', var_url)\n",
        "var_results = submit_request(var_url)"
      ]
    },
    {
      "cell_type": "markdown",
      "metadata": {
        "id": "_SB7xMu8DUVI"
      },
      "source": [
        "This single subsetted file output is downloaded to the Harmony outputs directory:"
      ]
    },
    {
      "cell_type": "code",
      "execution_count": 21,
      "metadata": {
        "id": "Hxc95hvfDUVM"
      },
      "outputs": [],
      "source": [
        "file_name = 'harmonyvarsubset.tif'\n",
        "var_filepath = str(local_dir+file_name)\n",
        "file_ = open(var_filepath, 'wb')\n",
        "file_.write(var_results)\n",
        "file_.close()"
      ]
    },
    {
      "cell_type": "markdown",
      "metadata": {
        "id": "TVayUXKvDUVM"
      },
      "source": [
        "We can plot the TIF output of the single `blue_var` band to verify our output:"
      ]
    },
    {
      "cell_type": "code",
      "execution_count": 22,
      "metadata": {
        "id": "v3I_hz6SDUVM",
        "outputId": "4c23c3e2-2f63-41a8-a6d6-6ffd2862fcb8",
        "colab": {
          "base_uri": "https://localhost:8080/",
          "height": 314
        }
      },
      "outputs": [
        {
          "output_type": "display_data",
          "data": {
            "text/plain": [
              "<Figure size 640x480 with 1 Axes>"
            ],
            "image/png": "[encoded data removed]"
          },
          "metadata": {}
        }
      ],
      "source": [
        "var_raster = rasterio.open(var_filepath)\n",
        "blue = var_raster.read(1) # read first band, in this case blue_var\n",
        "plt.imshow(blue, cmap='Blues');"
      ]
    },
    {
      "cell_type": "markdown",
      "metadata": {
        "id": "LIT2NAeuDUVM"
      },
      "source": [
        "## Access data subsetted by geographic bounding box\n",
        "\n",
        "Using the same global coverage granule as above, we will request a bounding box subset over Australia. Harmony supports spatial subset requests within the `rangeset` query in the following structure:\n",
        "\n",
        "`subset=lat(South:North)&subset=lon(West:East)`\n",
        "\n",
        "More details included in the Harmony documentation:\n",
        "\n",
        "Harmony supports the axes \"lat\" and \"lon\" for spatial subsetting, regardless of the names of those axes in the data files.  Examples:\n",
        "- Subset to the lat/lon bounding box with southwest corner (-10, -10) and northeast corner (10, 10)\n",
        "            subset=lat(-10:10)&subset=lon(-10:10)\n",
        "- Subset to all latitudes north of -10 degrees and all longitudes west of 10 degrees\n",
        "            subset=lat(-10:*)&subset=lon(*:10)\n",
        "- Subset to only points with latitudes from -10 to 10 degrees, disregarding longitude\n",
        "            subset=lat(-10:10)"
      ]
    },
    {
      "cell_type": "code",
      "execution_count": 23,
      "metadata": {
        "tags": [],
        "id": "GSjW-UZ7DUVM",
        "outputId": "56a45449-d699-468a-ae1f-79d08bcf9447",
        "colab": {
          "base_uri": "https://localhost:8080/"
        }
      },
      "outputs": [
        {
          "output_type": "stream",
          "name": "stdout",
          "text": [
            "Request URL https://harmony.uat.earthdata.nasa.gov/C1234088182-EEDTEST/ogc-api-coverages/1.0.0/collections/all/coverage/rangeset?granuleid=G1234088196-EEDTEST&subset=lat(-45.75:-9)&subset=lon(110:156)\n"
          ]
        }
      ],
      "source": [
        "bboxSubsetConfig = {\n",
        "    'collection_id': harmony_collection_id,\n",
        "    'ogc-api-coverages_version': '1.0.0',\n",
        "    'variable': 'all',\n",
        "    'granuleid': granule_id,\n",
        "    'lat': '(-45.75:-9)',\n",
        "    'lon': '(110:156)'\n",
        "}\n",
        "bbox_url = harmony_root+'/{collection_id}/ogc-api-coverages/{ogc-api-coverages_version}/collections/{variable}/coverage/rangeset?granuleid={granuleid}&subset=lat{lat}&subset=lon{lon}'.format(**bboxSubsetConfig)\n",
        "print('Request URL', bbox_url)\n",
        "bbox_results = submit_request(bbox_url)"
      ]
    },
    {
      "cell_type": "markdown",
      "metadata": {
        "id": "AyuTRz7TDUVM"
      },
      "source": [
        "This spatially subsetted file output is downloaded to the Harmony outputs directory:"
      ]
    },
    {
      "cell_type": "code",
      "execution_count": 24,
      "metadata": {
        "id": "RQuTOzkuDUVM"
      },
      "outputs": [],
      "source": [
        "bbox_file_name = 'harmonybboxsubset.tif'\n",
        "bbox_filepath = str(local_dir+bbox_file_name)\n",
        "file_ = open(bbox_filepath, 'wb')\n",
        "file_.write(bbox_results)\n",
        "file_.close()"
      ]
    },
    {
      "cell_type": "markdown",
      "metadata": {
        "id": "RwVz9IRtDUVM"
      },
      "source": [
        "We can plot the TIF output of the subsetted file to verify our output. All bands are overlaid to plot the color composite, with this code example modified from the following source:\n",
        "\n",
        "https://automating-gis-processes.github.io/CSC/notebooks/L5/plotting-raster.html \\\n",
        "© Copyright 2018, Henrikki Tenkanen \\\n",
        "[License](https://creativecommons.org/licenses/by-sa/4.0/)"
      ]
    },
    {
      "cell_type": "code",
      "execution_count": 25,
      "metadata": {
        "id": "wMyiLVXcDUVM",
        "outputId": "2711b757-d1fc-41ea-e845-f9f7ba8cfdb3",
        "colab": {
          "base_uri": "https://localhost:8080/",
          "height": 435
        }
      },
      "outputs": [
        {
          "output_type": "display_data",
          "data": {
            "text/plain": [
              "<Figure size 640x480 with 1 Axes>"
            ],
            "image/png": "[encoded data removed]"
          },
          "metadata": {}
        }
      ],
      "source": [
        "# Open the file:\n",
        "bbox_raster = rasterio.open(bbox_filepath)\n",
        "\n",
        "# Read the grid values into numpy arrays\n",
        "red = bbox_raster.read(3)\n",
        "green = bbox_raster.read(2)\n",
        "blue = bbox_raster.read(1)\n",
        "\n",
        "# Function to normalize the grid values\n",
        "def normalize(array):\n",
        "    \"\"\"Normalizes numpy arrays into scale 0.0 - 1.0\"\"\"\n",
        "    import numpy as np\n",
        "    np.seterr(divide='ignore', invalid='ignore') #ignore divide by 0 error\n",
        "    array_min, array_max = array.min(), array.max()\n",
        "    return ((array - array_min)/(array_max - array_min))\n",
        "\n",
        "# Normalize the bands\n",
        "redn = normalize(red)\n",
        "greenn = normalize(green)\n",
        "bluen = normalize(blue)\n",
        "\n",
        "# Create RGB natural color composite\n",
        "rgb = np.dstack((redn, greenn, bluen))\n",
        "\n",
        "# Let's see how our color composite looks like\n",
        "plt.imshow(rgb);"
      ]
    },
    {
      "cell_type": "markdown",
      "metadata": {
        "id": "teUpshvYDUVN"
      },
      "source": [
        "## Access data filtered by temporal range\n",
        "\n",
        "Filtering data results by temporal range is also available on this test collection. According to the Harmony API documentation, the `time` keyword within the `rangeset` query supports the following:\n",
        "\n",
        "Either a date-time or a period string that adheres to RFC 3339. Examples:\n",
        "        * A date-time: \"2018-02-12T23:20:50Z\" * A period: \"2018-02-12T00:00:00Z/2018-03-18T12:31:12Z\" or \"2018-02-12T00:00:00Z/P1M6DT12H31M12S\"\n",
        "Only collections that have a temporal property that intersects the value of `time` are selected. If a collection has multiple temporal properties, it is the decision of the server whether only a single temporal property is used to determine the extent or all relevant temporal properties.\n",
        "\n",
        "We will search for the following time range:\n",
        "\n",
        "Start time: 2020-02-16 02:00:00 \\\n",
        "End time: 2020-02-16 03:00:00\n",
        "\n",
        "According to [Earthdata Search](https://search.uat.earthdata.nasa.gov/search/granules?p=C1234088182-EEDTEST&pg[0][v]=f&pg[0][gsk]=-start_date&q=harmony_example&qt=2020-02-16T02%3A00%3A00.000Z%2C2020-02-16T03%3A00%3A00.000Z&tl=1567098728!4!!&lat=-66.80545903827544&long=19.313018908611213&zoom=1), a single granule `2020_02_16_ff0000_africa` is returned over this time."
      ]
    },
    {
      "cell_type": "code",
      "execution_count": 26,
      "metadata": {
        "tags": [],
        "id": "OflGlAjGDUVN",
        "outputId": "1e76f042-30b2-415f-d97a-129b546e5887",
        "colab": {
          "base_uri": "https://localhost:8080/"
        }
      },
      "outputs": [
        {
          "output_type": "stream",
          "name": "stdout",
          "text": [
            "Request URL https://harmony.uat.earthdata.nasa.gov/C1234088182-EEDTEST/ogc-api-coverages/1.0.0/collections/all/coverage/rangeset?&subset=time(\"2020-02-16T02:00:00.000Z\":\"2020-02-16T03:00:00.000Z\")\n"
          ]
        }
      ],
      "source": [
        "timeSubsetConfig = {\n",
        "    'collection_id': harmony_collection_id,\n",
        "    'ogc-api-coverages_version': '1.0.0',\n",
        "    'variable': 'all',\n",
        "    'time': '(\"2020-02-16T02:00:00.000Z\":\"2020-02-16T03:00:00.000Z\")'\n",
        "}\n",
        "\n",
        "time_url = harmony_root+'/{collection_id}/ogc-api-coverages/{ogc-api-coverages_version}/collections/{variable}/coverage/rangeset?&subset=time{time}'.format(**timeSubsetConfig)\n",
        "print('Request URL', time_url)\n",
        "time_results = submit_request(time_url)"
      ]
    },
    {
      "cell_type": "markdown",
      "metadata": {
        "id": "myVKNjoqDUVN"
      },
      "source": [
        "This file returned over the time range of interest is downloaded to the Harmony outputs directory:"
      ]
    },
    {
      "cell_type": "code",
      "execution_count": 27,
      "metadata": {
        "id": "3hIZSZNeDUVN"
      },
      "outputs": [],
      "source": [
        "time_file_name = 'harmonytimesubset.tif'\n",
        "time_filepath = str(local_dir+time_file_name)\n",
        "file_ = open(time_filepath, 'wb')\n",
        "file_.write(time_results)\n",
        "file_.close()"
      ]
    },
    {
      "cell_type": "markdown",
      "metadata": {
        "id": "j_7YDm01DUVN"
      },
      "source": [
        "We can plot the TIF output of this file to verify the coverage over Africa (for simplicity, plotting the first band):"
      ]
    },
    {
      "cell_type": "code",
      "execution_count": 28,
      "metadata": {
        "id": "FmBeVnyvDUVN",
        "outputId": "3232b1ef-c21c-4109-ce16-911f138ec008",
        "colab": {
          "base_uri": "https://localhost:8080/",
          "height": 435
        }
      },
      "outputs": [
        {
          "output_type": "display_data",
          "data": {
            "text/plain": [
              "<Figure size 640x480 with 1 Axes>"
            ],
            "image/png": "[encoded data removed]"
          },
          "metadata": {}
        }
      ],
      "source": [
        "time_raster = rasterio.open(time_filepath)\n",
        "time_band = time_raster.read(1)\n",
        "plt.imshow(time_band, cmap='Blues');"
      ]
    },
    {
      "cell_type": "markdown",
      "metadata": {
        "id": "ht8ab-5qDUVN"
      },
      "source": [
        "## Access data subsetted by geographic shapefile\n",
        "We will request data overlapping South America by uploading a shapefile with that boundary.\n",
        "\n",
        "This requires the use of a multipart/form-data POST request. Supported shapefile formats include ESRI, GeoJSON, and KML. The associated mime-types are as follows:\n",
        "\n",
        "| Shapefile Format | mime-type |\n",
        "|:-----------------|----------:|\n",
        "| ESRI | application/shapefile+zip |\n",
        "| GeoJSON | application/geo+json |\n",
        "| KML | application/vnd.google-earth.kml+xml |\n",
        "\n",
        "\n",
        "ESRI shapefiles must be uploaded as a single .zip file.\n",
        "See the Harmony documenation for more details.\n",
        "\n",
        "Note that this request is using the shapefile for the search that it is performing to find data. It will also be used for shapefile subsetting if the service that this request is routed to supports it."
      ]
    },
    {
      "cell_type": "code",
      "execution_count": 29,
      "metadata": {
        "id": "9eIh3b5sDUVN"
      },
      "outputs": [],
      "source": [
        "shapefileSubsetConfig = {\n",
        "    'collection_id': harmony_collection_id,\n",
        "    'ogc-api-coverages_version': '1.0.0',\n",
        "    'variable': 'blue_var,red_var,green_var',\n",
        "    'format': 'image/tiff'\n",
        "}\n",
        "\n",
        "shapefile_url = harmony_root+'/{collection_id}/ogc-api-coverages/{ogc-api-coverages_version}/collections/{variable}/coverage/rangeset?format={format}'.format(**shapefileSubsetConfig)\n",
        "# download the shapefile from github\n",
        "shapefile_github_raw_url = 'https://raw.githubusercontent.com/nasa/harmony/main/docs/shapefiles/south_america.geojson'\n",
        "shapefile_path = local_dir+'./south_america.geojson'\n",
        "r = requests.get(shapefile_github_raw_url, stream=True)\n",
        "with open(shapefile_path, 'wb') as fd:\n",
        "    for chunk in r.iter_content(chunk_size=128):\n",
        "        fd.write(chunk)\n",
        "\n",
        "with open(shapefile_path, 'rb') as fd1:\n",
        "    # the form must have a 'shapefile' key which must include the mime-type as shown. Additional parameters\n",
        "    # such as temporal subsetting can be included in the form.\n",
        "    multipart_form_data = {\n",
        "        'shapefile': ('south_america.geojson', fd1, 'application/geo+json'),\n",
        "        'subset': (None, 'time(\"2020-11-16T20:00:00.000Z\":\"2020-11-16T22:00:00.000Z\")')\n",
        "    }\n",
        "    # submit the form using a POST request and prepare to stream the result\n",
        "    if bearer_token:\n",
        "        shapefile_response = requests.post(shapefile_url, files=multipart_form_data, stream=True, auth=BearerToken(bearer_token))\n",
        "    else:\n",
        "        shapefile_response = requests.post(shapefile_url, files=multipart_form_data, stream=True)"
      ]
    },
    {
      "cell_type": "markdown",
      "metadata": {
        "id": "zeMCYe4fDUVN"
      },
      "source": [
        "We can stream the result back and write it out to a file:"
      ]
    },
    {
      "cell_type": "code",
      "execution_count": 30,
      "metadata": {
        "id": "bv0KnKNjDUVO"
      },
      "outputs": [],
      "source": [
        "shapefile_output_filepath = str(local_dir + 'shapefile_output.tif')\n",
        "with open(shapefile_output_filepath, 'wb') as fd:\n",
        "    for chunk in shapefile_response.iter_content(chunk_size=128):\n",
        "        fd.write(chunk)"
      ]
    },
    {
      "cell_type": "markdown",
      "metadata": {
        "id": "pyePkUGzDUVO"
      },
      "source": [
        "We plot the file as before:"
      ]
    },
    {
      "cell_type": "code",
      "execution_count": 31,
      "metadata": {
        "id": "IeVhtlPQDUVO",
        "outputId": "a84a9451-620b-4c83-bf5b-7feb8660ff5c",
        "colab": {
          "base_uri": "https://localhost:8080/",
          "height": 435
        }
      },
      "outputs": [
        {
          "output_type": "display_data",
          "data": {
            "text/plain": [
              "<Figure size 640x480 with 1 Axes>"
            ],
            "image/png": "[encoded data removed]"
          },
          "metadata": {}
        }
      ],
      "source": [
        "# Open the file:\n",
        "shapefile_raster = rasterio.open(shapefile_output_filepath)\n",
        "\n",
        "# Read the grid values into numpy arrays\n",
        "red = shapefile_raster.read(3)\n",
        "green = shapefile_raster.read(2)\n",
        "blue = shapefile_raster.read(1)\n",
        "\n",
        "# Function to normalize the grid values\n",
        "def normalize(array):\n",
        "    \"\"\"Normalizes numpy arrays into scale 0.0 - 1.0\"\"\"\n",
        "    import numpy as np\n",
        "    np.seterr(divide='ignore', invalid='ignore') #ignore divide by 0 error\n",
        "    array_min, array_max = array.min(), array.max()\n",
        "    return ((array - array_min)/(array_max - array_min))\n",
        "\n",
        "# Normalize the bands\n",
        "redn = normalize(red)\n",
        "greenn = normalize(green)\n",
        "bluen = normalize(blue)\n",
        "\n",
        "# Create RGB natural color composite\n",
        "rgb = np.dstack((redn, greenn, bluen))\n",
        "\n",
        "# Let's see how our color composite looks like\n",
        "plt.imshow(rgb);"
      ]
    },
    {
      "cell_type": "markdown",
      "metadata": {
        "id": "kssRALNHDUVO"
      },
      "source": [
        "## Access reprojected data\n",
        "\n",
        "The Harmony API accepts reprojection requests with a given coordinate reference system using the `outputCrs` keyword. According to the Harmony API documentation, this keyword \"recognizes CRS types that can be inferred by gdal, including EPSG codes, Proj4 strings, and OGC URLs (http://www.opengis.net/def/crs/...) \". Two examples below demonstrate inputting an EPSG code and Proj4 string using the global test granule from previous examples. First, let's view the projection information of the granule in the native projection, using the variable subset example:"
      ]
    },
    {
      "cell_type": "code",
      "execution_count": 32,
      "metadata": {
        "id": "DlQeag27DUVO",
        "outputId": "8a91d4fe-f796-46a8-b0a2-9da63f7059a6",
        "colab": {
          "base_uri": "https://localhost:8080/",
          "height": 70
        }
      },
      "outputs": [
        {
          "output_type": "execute_result",
          "data": {
            "text/plain": [
              "'GEOGCS[\"WGS 84\",DATUM[\"WGS_1984\",SPHEROID[\"WGS 84\",6378137,298.257223563,AUTHORITY[\"EPSG\",\"7030\"]],AUTHORITY[\"EPSG\",\"6326\"]],PRIMEM[\"Greenwich\",0,AUTHORITY[\"EPSG\",\"8901\"]],UNIT[\"degree\",0.0174532925199433,AUTHORITY[\"EPSG\",\"9122\"]],AXIS[\"Latitude\",NORTH],AXIS[\"Longitude\",EAST],AUTHORITY[\"EPSG\",\"4326\"]]'"
            ],
            "application/vnd.google.colaboratory.intrinsic+json": {
              "type": "string"
            }
          },
          "metadata": {},
          "execution_count": 32
        }
      ],
      "source": [
        "native_proj = gdal.Open(var_filepath, gdal.GA_ReadOnly)\n",
        "native_proj.GetProjection()"
      ]
    },
    {
      "cell_type": "markdown",
      "metadata": {
        "id": "7p-zVOQ_DUVO"
      },
      "source": [
        "Request reprojection to EPSG 6933 (\"WGS 84 / NSIDC EASE-Grid 2.0 Global\"):"
      ]
    },
    {
      "cell_type": "code",
      "execution_count": 33,
      "metadata": {
        "tags": [],
        "id": "CNFfUAw3DUVO",
        "outputId": "8c045753-bd9f-4655-a176-86c040391b25",
        "colab": {
          "base_uri": "https://localhost:8080/"
        }
      },
      "outputs": [
        {
          "output_type": "stream",
          "name": "stdout",
          "text": [
            "Request URL https://harmony.uat.earthdata.nasa.gov/C1234088182-EEDTEST/ogc-api-coverages/1.0.0/collections/all/coverage/rangeset?&granuleid=G1234088196-EEDTEST&outputCrs=EPSG:6933\n"
          ]
        }
      ],
      "source": [
        "epsgConfig = {\n",
        "    'collection_id': harmony_collection_id,\n",
        "    'ogc-api-coverages_version': '1.0.0',\n",
        "    'variable': 'all',\n",
        "    'granuleid': granule_id,\n",
        "    'outputCrs': 'EPSG:6933',\n",
        "}\n",
        "\n",
        "epsg_url = harmony_root+'/{collection_id}/ogc-api-coverages/{ogc-api-coverages_version}/collections/{variable}/coverage/rangeset?&granuleid={granuleid}&outputCrs={outputCrs}'.format(**epsgConfig)\n",
        "print('Request URL', epsg_url)\n",
        "epsg_results = submit_request(epsg_url)"
      ]
    },
    {
      "cell_type": "markdown",
      "metadata": {
        "id": "7Y72nFwHDUVO"
      },
      "source": [
        "This reprojected output is downloaded to the Harmony outputs directory and the projection information can be viewed using GDAL:"
      ]
    },
    {
      "cell_type": "code",
      "execution_count": 34,
      "metadata": {
        "id": "JoyljLFBDUVO",
        "outputId": "8063a25c-69a8-4ffb-8a7f-c7cb47dd62b8",
        "colab": {
          "base_uri": "https://localhost:8080/",
          "height": 87
        }
      },
      "outputs": [
        {
          "output_type": "execute_result",
          "data": {
            "text/plain": [
              "'PROJCS[\"unknown\",GEOGCS[\"WGS 84\",DATUM[\"WGS_1984\",SPHEROID[\"WGS 84\",6378137,298.257223563,AUTHORITY[\"EPSG\",\"7030\"]],AUTHORITY[\"EPSG\",\"6326\"]],PRIMEM[\"Greenwich\",0],UNIT[\"degree\",0.0174532925199433,AUTHORITY[\"EPSG\",\"9122\"]],AUTHORITY[\"EPSG\",\"4326\"]],PROJECTION[\"Cylindrical_Equal_Area\"],PARAMETER[\"standard_parallel_1\",30],PARAMETER[\"central_meridian\",0],PARAMETER[\"false_easting\",0],PARAMETER[\"false_northing\",0],UNIT[\"metre\",1,AUTHORITY[\"EPSG\",\"9001\"]],AXIS[\"Easting\",EAST],AXIS[\"Northing\",NORTH]]'"
            ],
            "application/vnd.google.colaboratory.intrinsic+json": {
              "type": "string"
            }
          },
          "metadata": {},
          "execution_count": 34
        }
      ],
      "source": [
        "epsg_file_name = 'harmonyepsg.tif'\n",
        "epsg_filepath = str(local_dir+epsg_file_name)\n",
        "file_ = open(epsg_filepath, 'wb')\n",
        "file_.write(epsg_results)\n",
        "file_.close()\n",
        "\n",
        "# get projection information\n",
        "epsg = gdal.Open(epsg_filepath, gdal.GA_ReadOnly)\n",
        "epsg.GetProjection()"
      ]
    },
    {
      "cell_type": "markdown",
      "metadata": {
        "id": "SaE_w2PdDUVP"
      },
      "source": [
        "We can see that the output was reprojected to Cylindrical Equal Area as expected. We can do a visual check of this as well:"
      ]
    },
    {
      "cell_type": "code",
      "execution_count": 35,
      "metadata": {
        "id": "8BgWSAmdDUVP",
        "outputId": "0d000a33-e72f-4555-da19-d5190523bb6e",
        "colab": {
          "base_uri": "https://localhost:8080/",
          "height": 275
        }
      },
      "outputs": [
        {
          "output_type": "display_data",
          "data": {
            "text/plain": [
              "<Figure size 640x480 with 1 Axes>"
            ],
            "image/png": "[encoded data removed]"
          },
          "metadata": {}
        }
      ],
      "source": [
        "epsg_raster = rasterio.open(epsg_filepath)\n",
        "epsg_band = epsg_raster.read(1)\n",
        "plt.imshow(epsg_band, cmap='Blues');"
      ]
    },
    {
      "cell_type": "markdown",
      "metadata": {
        "id": "L4ZtFKktDUVP"
      },
      "source": [
        "Reprojection can also be requested using a proj4 string. You must ensure that the proper URL encoding is included in the request so that proj4 string spaces and special characters are handled without error:"
      ]
    },
    {
      "cell_type": "code",
      "execution_count": 36,
      "metadata": {
        "tags": [],
        "id": "3Hb9RHrXDUVP",
        "outputId": "4d719fb4-f1ad-4258-a4c8-ac1081f5e6e4",
        "colab": {
          "base_uri": "https://localhost:8080/"
        }
      },
      "outputs": [
        {
          "output_type": "stream",
          "name": "stdout",
          "text": [
            "Request URL https://harmony.uat.earthdata.nasa.gov/C1234088182-EEDTEST/ogc-api-coverages/1.0.0/collections/all/coverage/rangeset?&granuleid=G1234088196-EEDTEST&outputCrs=%2Bproj%3Dcea%20%2Blon_0%3D0%20%2Blat_ts%3D30%20%2Bx_0%3D0%20%2By_0%3D0%20%2Bellps%3DWGS84%20%2Btowgs84%3D0%2C0%2C0%2C0%2C0%2C0%2C0%20%2Bunits%3Dm%20%2Bno_defs\n"
          ]
        }
      ],
      "source": [
        "# URL encode string using urllib parse package\n",
        "proj_string = '+proj=cea +lon_0=0 +lat_ts=30 +x_0=0 +y_0=0 +ellps=WGS84 +towgs84=0,0,0,0,0,0,0 +units=m +no_defs' # proj4 of WGS 84 / NSIDC EASE-Grid 2.0 Global projection\n",
        "proj_encode = parse.quote(proj_string)\n",
        "\n",
        "projConfig = {\n",
        "    'collection_id': harmony_collection_id,\n",
        "    'ogc-api-coverages_version': '1.0.0',\n",
        "    'variable': 'all',\n",
        "    'granuleid': granule_id,\n",
        "    'outputCrs': proj_encode\n",
        "}\n",
        "\n",
        "proj_url = harmony_root+'/{collection_id}/ogc-api-coverages/{ogc-api-coverages_version}/collections/{variable}/coverage/rangeset?&granuleid={granuleid}&outputCrs={outputCrs}'.format(**projConfig)\n",
        "print('Request URL', proj_url)\n",
        "proj_results = submit_request(proj_url)"
      ]
    },
    {
      "cell_type": "markdown",
      "metadata": {
        "id": "z2LCDC1kDUVP"
      },
      "source": [
        "This reprojected output is downloaded to a directory with write permissions and the projection information can be viewed using GDAL. The projection is equivalent to the specified EPSG request above as expected:"
      ]
    },
    {
      "cell_type": "code",
      "execution_count": 37,
      "metadata": {
        "id": "ia1s5ITuDUVP",
        "outputId": "6ffe6033-ad3e-489f-d3bd-33ead5e76e8d",
        "colab": {
          "base_uri": "https://localhost:8080/",
          "height": 87
        }
      },
      "outputs": [
        {
          "output_type": "execute_result",
          "data": {
            "text/plain": [
              "'PROJCS[\"unknown\",GEOGCS[\"unknown\",DATUM[\"Unknown based on WGS 84 ellipsoid using towgs84=0,0,0,0,0,0,0\",SPHEROID[\"WGS 84\",6378137,298.257223563,AUTHORITY[\"EPSG\",\"7030\"]],TOWGS84[0,0,0,0,0,0,0]],PRIMEM[\"Greenwich\",0],UNIT[\"degree\",0.0174532925199433,AUTHORITY[\"EPSG\",\"9122\"]]],PROJECTION[\"Cylindrical_Equal_Area\"],PARAMETER[\"standard_parallel_1\",30],PARAMETER[\"central_meridian\",0],PARAMETER[\"false_easting\",0],PARAMETER[\"false_northing\",0],UNIT[\"metre\",1,AUTHORITY[\"EPSG\",\"9001\"]],AXIS[\"Easting\",EAST],AXIS[\"Northing\",NORTH]]'"
            ],
            "application/vnd.google.colaboratory.intrinsic+json": {
              "type": "string"
            }
          },
          "metadata": {},
          "execution_count": 37
        }
      ],
      "source": [
        "proj_file_name = 'harmonyproj4.tif'\n",
        "proj_filepath = str(local_dir+proj_file_name)\n",
        "file_ = open(proj_filepath, 'wb')\n",
        "file_.write(proj_results)\n",
        "file_.close()\n",
        "\n",
        "# get projection information\n",
        "proj = gdal.Open(proj_filepath, gdal.GA_ReadOnly)\n",
        "proj.GetProjection()"
      ]
    },
    {
      "cell_type": "markdown",
      "metadata": {
        "id": "U9Zcb8KdDUVP"
      },
      "source": [
        "## Access Level 2 swath regridded data\n",
        "\n",
        "Moving outside of the `harmony/gdal` service, we will now request regridding from the `Swath Projector` service using the `C1233860183-EEDTEST`, or Harmony L2 swath example, collection provided in NetCDF format.\n",
        "\n",
        "\n",
        "The Harmony API accepts several query parameters related to regridding and interpolation in addition to the reprojection parameters above:\n",
        "\n",
        "`interpolation=<String>` - Both `near` and `bilinear` are valid options\n",
        "\n",
        "`scaleSize=x,y` - 2 comma separated numbers as floats\n",
        "\n",
        "`scaleExtent=xmin,ymin,xmax,ymax` - 4 comma separated numbers as floats\n",
        "\n",
        "`width=<Float>`  \n",
        "\n",
        "`height=<Float>`\n",
        "\n",
        "An error is returned if both `scaleSize` and `width`/`height` parameters are both provided (only one or the other can be used)."
      ]
    },
    {
      "cell_type": "markdown",
      "metadata": {
        "id": "SzNy1cNfDUVP"
      },
      "source": [
        "Request reprojection to [Europe Lambert Conformal Conic](https://epsg.io/102014) with a new scale extent and nearest neighbor interpolation:"
      ]
    },
    {
      "cell_type": "code",
      "execution_count": 38,
      "metadata": {
        "tags": [],
        "id": "NK7GD93MDUVP",
        "outputId": "f3c47e8e-4122-4bf9-d9bd-1efe24a36401",
        "colab": {
          "base_uri": "https://localhost:8080/"
        }
      },
      "outputs": [
        {
          "output_type": "stream",
          "name": "stdout",
          "text": [
            "Request URL https://harmony.uat.earthdata.nasa.gov/C1233860183-EEDTEST/ogc-api-coverages/1.0.0/collections/all/coverage/rangeset?&granuleid=G1233860486-EEDTEST&outputCrs=%2Bproj%3Dlcc%20%2Blat_1%3D43%20%2Blat_2%3D62%20%2Blat_0%3D30%20%2Blon_0%3D10%20%2Bx_0%3D0%20%2By_0%3D0%20%2Bellps%3Dintl%20%2Bunits%3Dm%20%2Bno_defs&interpolation=near&scaleExtent=-7000000,1000000,8000000,8000000\n"
          ]
        }
      ],
      "source": [
        "# URL encode string using urllib parse package\n",
        "l2proj_string = '+proj=lcc +lat_1=43 +lat_2=62 +lat_0=30 +lon_0=10 +x_0=0 +y_0=0 +ellps=intl +units=m +no_defs'\n",
        "l2proj_encode = parse.quote(l2proj_string)\n",
        "\n",
        "\n",
        "regridConfig = {\n",
        "    'l2collection_id': 'C1233860183-EEDTEST',\n",
        "    'ogc-api-coverages_version': '1.0.0',\n",
        "    'variable': 'all',\n",
        "    'granuleid': 'G1233860486-EEDTEST',\n",
        "    'outputCrs': l2proj_encode,\n",
        "    'interpolation': 'near',\n",
        "    'scaleExtent': '-7000000,1000000,8000000,8000000'\n",
        "}\n",
        "\n",
        "regrid_url = harmony_root+'/{l2collection_id}/ogc-api-coverages/{ogc-api-coverages_version}/collections/{variable}/coverage/rangeset?&granuleid={granuleid}&outputCrs={outputCrs}&interpolation={interpolation}&scaleExtent={scaleExtent}'.format(**regridConfig)\n",
        "print('Request URL', regrid_url)\n",
        "regrid_results = submit_request(regrid_url)"
      ]
    },
    {
      "cell_type": "markdown",
      "metadata": {
        "id": "aRjSdVfjDUVP"
      },
      "source": [
        "This reprojected and regridded output is downloaded to the Harmony outputs directory and we can inspect a variable to check for projection and grid dimension:"
      ]
    },
    {
      "cell_type": "code",
      "execution_count": 39,
      "metadata": {
        "tags": [],
        "id": "ngfXz32RDUVP",
        "outputId": "d5abbb22-3e9f-48e0-e958-e612ada96830",
        "colab": {
          "base_uri": "https://localhost:8080/"
        }
      },
      "outputs": [
        {
          "output_type": "stream",
          "name": "stdout",
          "text": [
            "dict_keys(['time', 'red_var', 'lambert_conformal_conic', 'y', 'x', 'alpha_var', 'green_var', 'blue_var'])\n",
            "<class 'netCDF4.Variable'>\n",
            "uint8 blue_var(time, y, x)\n",
            "    _FillValue: 0\n",
            "    add_offset: 28\n",
            "    scale_factor: 2\n",
            "    grid_mapping: lambert_conformal_conic\n",
            "unlimited dimensions: \n",
            "current shape = (1, 626, 1341)\n",
            "filling on\n"
          ]
        }
      ],
      "source": [
        "regrid_file_name = 'regrid.nc'\n",
        "regrid_filepath = str(local_dir+regrid_file_name)\n",
        "file_ = open(regrid_filepath, 'wb')\n",
        "file_.write(regrid_results)\n",
        "file_.close()\n",
        "\n",
        "# Inspect dimensions of the blue_var:\n",
        "regrid_nc = Dataset(regrid_filepath)\n",
        "print(regrid_nc.variables.keys())\n",
        "blue_var = regrid_nc.variables['blue_var']\n",
        "print(blue_var)"
      ]
    },
    {
      "cell_type": "markdown",
      "metadata": {
        "id": "-JhaHHK0DUVP"
      },
      "source": [
        "Print the x and y dimensions to confirm that the output matches the requested scale extent in meters:"
      ]
    },
    {
      "cell_type": "code",
      "execution_count": 40,
      "metadata": {
        "tags": [],
        "id": "feUsMrTlDUVP",
        "outputId": "a3647e41-da4c-41ea-a8a7-983823386e6d",
        "colab": {
          "base_uri": "https://localhost:8080/"
        }
      },
      "outputs": [
        {
          "output_type": "stream",
          "name": "stdout",
          "text": [
            "min x -6994407.158836689 max x 7994407.158836689\n",
            "min y 1005591.054313099 max y 7994408.945686901\n"
          ]
        }
      ],
      "source": [
        "x = regrid_nc.variables['x']\n",
        "y = regrid_nc.variables['y']\n",
        "print('min x', min(x), 'max x', max(x))\n",
        "print('min y', min(y), 'max y', max(y))"
      ]
    },
    {
      "cell_type": "markdown",
      "metadata": {
        "id": "aoqMjwFsDUVP"
      },
      "source": [
        "## Access multiple files from an asynchronous request\n",
        "\n",
        "By default, a request resulting in more than one file will be returned asynchronously via a Job URL. The initial request submission is automatically redirected to this URL, and output links are appended to the response as they complete. The following query should return three granules based on the following temporal range:"
      ]
    },
    {
      "cell_type": "code",
      "execution_count": 41,
      "metadata": {
        "tags": [],
        "id": "kZqnUKDCDUVQ",
        "outputId": "9e52213a-a222-4b38-fe84-30c24d0f8f07",
        "colab": {
          "base_uri": "https://localhost:8080/"
        }
      },
      "outputs": [
        {
          "output_type": "stream",
          "name": "stdout",
          "text": [
            "Request URL https://harmony.uat.earthdata.nasa.gov/C1234088182-EEDTEST/ogc-api-coverages/1.0.0/collections/all/coverage/rangeset?&subset=time(\"2020-01-16T02:00:00.000Z\":\"2020-02-16T07:00:00.000Z\")&maxResults=3\n",
            "{'createdAt': '2024-11-19T06:37:02.988Z',\n",
            " 'dataExpiration': '2024-12-19T06:37:02.988Z',\n",
            " 'jobID': '6291401f-aa92-4f09-8fc7-1d6d4faec72c',\n",
            " 'labels': [],\n",
            " 'links': [{'href': 'https://harmony.uat.earthdata.nasa.gov/jobs/6291401f-aa92-4f09-8fc7-1d6d4faec72c/cancel',\n",
            "            'rel': 'canceler',\n",
            "            'title': 'Cancels the job.',\n",
            "            'type': 'application/json'},\n",
            "           {'href': 'https://harmony.uat.earthdata.nasa.gov/jobs/6291401f-aa92-4f09-8fc7-1d6d4faec72c/pause',\n",
            "            'rel': 'pauser',\n",
            "            'title': 'Pauses the job.',\n",
            "            'type': 'application/json'},\n",
            "           {'href': 'https://harmony.uat.earthdata.nasa.gov/jobs/6291401f-aa92-4f09-8fc7-1d6d4faec72c?page=1&limit=2000',\n",
            "            'rel': 'self',\n",
            "            'title': 'The current page',\n",
            "            'type': 'application/json'}],\n",
            " 'message': 'CMR query identified 17 granules, but the request has been '\n",
            "            'limited to process only the first 3 granules because you '\n",
            "            'requested 3 maxResults.',\n",
            " 'numInputGranules': 3,\n",
            " 'progress': 0,\n",
            " 'request': 'https://harmony.uat.earthdata.nasa.gov/C1234088182-EEDTEST/ogc-api-coverages/1.0.0/collections/all/coverage/rangeset?subset=time(%222020-01-16T02%3A00%3A00.000Z%22%3A%222020-02-16T07%3A00%3A00.000Z%22)&maxResults=3',\n",
            " 'status': 'running',\n",
            " 'updatedAt': '2024-11-19T06:37:02.988Z',\n",
            " 'username': 'syedadnanbukhari63'}\n"
          ]
        }
      ],
      "source": [
        "asyncConfig = {\n",
        "    'collection_id': harmony_collection_id,\n",
        "    'ogc-api-coverages_version': '1.0.0',\n",
        "    'variable': 'all',\n",
        "    'time': '(\"2020-01-16T02:00:00.000Z\":\"2020-02-16T07:00:00.000Z\")',\n",
        "    'maxResults': 3\n",
        "}\n",
        "\n",
        "async_url = harmony_root+'/{collection_id}/ogc-api-coverages/{ogc-api-coverages_version}/collections/{variable}/coverage/rangeset?&subset=time{time}&maxResults={maxResults}'.format(**asyncConfig)\n",
        "print('Request URL', async_url)\n",
        "async_json = get_json_response(async_url)\n",
        "pprint.pprint(async_json)"
      ]
    },
    {
      "cell_type": "markdown",
      "metadata": {
        "id": "j1kFmbioDUVQ"
      },
      "source": [
        "The async response initially shows 0% progress. The initial request URL will automatically redirect to a job URL, which we can manually determine using the jobID:"
      ]
    },
    {
      "cell_type": "code",
      "execution_count": 42,
      "metadata": {
        "tags": [],
        "id": "cmJBOsDWDUVQ",
        "outputId": "9f82fcfd-5b7a-461f-c255-97cbf81cfe86",
        "colab": {
          "base_uri": "https://localhost:8080/"
        }
      },
      "outputs": [
        {
          "output_type": "stream",
          "name": "stdout",
          "text": [
            "Job URL https://harmony.uat.earthdata.nasa.gov/jobs/6291401f-aa92-4f09-8fc7-1d6d4faec72c\n"
          ]
        }
      ],
      "source": [
        "jobConfig = {\n",
        "    'jobID': async_json['jobID']\n",
        "}\n",
        "\n",
        "job_url = harmony_root+'/jobs/{jobID}'.format(**jobConfig)\n",
        "print('Job URL', job_url)"
      ]
    },
    {
      "cell_type": "markdown",
      "metadata": {
        "id": "DC-Xfa6gDUVQ"
      },
      "source": [
        "The `links` list in the job response will continue to be updated as outputs are produced:"
      ]
    },
    {
      "cell_type": "code",
      "execution_count": 43,
      "metadata": {
        "tags": [],
        "id": "zPyWCF3RDUVQ",
        "outputId": "85bdc486-8c52-4cd1-eb55-ec83736e2ff8",
        "colab": {
          "base_uri": "https://localhost:8080/"
        }
      },
      "outputs": [
        {
          "output_type": "stream",
          "name": "stdout",
          "text": [
            "Job response:\n",
            "\n",
            "{'createdAt': '2024-11-19T06:37:02.988Z',\n",
            " 'dataExpiration': '2024-12-19T06:37:02.988Z',\n",
            " 'jobID': '6291401f-aa92-4f09-8fc7-1d6d4faec72c',\n",
            " 'labels': [],\n",
            " 'links': [{'href': 'https://harmony.uat.earthdata.nasa.gov/jobs/6291401f-aa92-4f09-8fc7-1d6d4faec72c/cancel',\n",
            "            'rel': 'canceler',\n",
            "            'title': 'Cancels the job.',\n",
            "            'type': 'application/json'},\n",
            "           {'href': 'https://harmony.uat.earthdata.nasa.gov/jobs/6291401f-aa92-4f09-8fc7-1d6d4faec72c/pause',\n",
            "            'rel': 'pauser',\n",
            "            'title': 'Pauses the job.',\n",
            "            'type': 'application/json'},\n",
            "           {'bbox': [-25.4, -34.9, 63.5, 37.4],\n",
            "            'href': 'https://harmony.uat.earthdata.nasa.gov/service-results/harmony-uat-staging/public/6291401f-aa92-4f09-8fc7-1d6d4faec72c/4907885/2020_02_01_7f00ff_africa.tif',\n",
            "            'rel': 'data',\n",
            "            'temporal': {'end': '2020-02-01T23:59:59.000Z',\n",
            "                         'start': '2020-02-01T00:00:00.000Z'},\n",
            "            'title': '2020_02_01_7f00ff_africa.tif',\n",
            "            'type': 'image/tiff'},\n",
            "           {'bbox': [-180, -90, 180, 90],\n",
            "            'href': 'https://harmony.uat.earthdata.nasa.gov/service-results/harmony-uat-staging/public/6291401f-aa92-4f09-8fc7-1d6d4faec72c/4907884/2020_01_16_ff0000_global.tif',\n",
            "            'rel': 'data',\n",
            "            'temporal': {'end': '2020-01-16T23:59:59.000Z',\n",
            "                         'start': '2020-01-16T00:00:00.000Z'},\n",
            "            'title': '2020_01_16_ff0000_global.tif',\n",
            "            'type': 'image/tiff'},\n",
            "           {'href': 'https://harmony.uat.earthdata.nasa.gov/jobs/6291401f-aa92-4f09-8fc7-1d6d4faec72c?page=1&limit=2000',\n",
            "            'rel': 'self',\n",
            "            'title': 'The current page',\n",
            "            'type': 'application/json'}],\n",
            " 'message': 'CMR query identified 17 granules, but the request has been '\n",
            "            'limited to process only the first 3 granules because you '\n",
            "            'requested 3 maxResults.',\n",
            " 'numInputGranules': 3,\n",
            " 'progress': 69,\n",
            " 'request': 'https://harmony.uat.earthdata.nasa.gov/C1234088182-EEDTEST/ogc-api-coverages/1.0.0/collections/all/coverage/rangeset?subset=time(%222020-01-16T02%3A00%3A00.000Z%22%3A%222020-02-16T07%3A00%3A00.000Z%22)&maxResults=3',\n",
            " 'status': 'running',\n",
            " 'updatedAt': '2024-11-19T06:37:09.817Z',\n",
            " 'username': 'syedadnanbukhari63'}\n"
          ]
        }
      ],
      "source": [
        "job_json = get_json_response(job_url)\n",
        "\n",
        "print('Job response:')\n",
        "print()\n",
        "pprint.pprint(job_json)"
      ]
    },
    {
      "cell_type": "markdown",
      "metadata": {
        "id": "U6U7VTsaDUVQ"
      },
      "source": [
        "A loop can be set up to query the job status and download outputs once the job is complete:"
      ]
    },
    {
      "cell_type": "code",
      "execution_count": 44,
      "metadata": {
        "tags": [],
        "id": "m-0eUr-ZDUVQ",
        "outputId": "ab1307e7-5b6e-4363-937e-83806794542d",
        "colab": {
          "base_uri": "https://localhost:8080/"
        }
      },
      "outputs": [
        {
          "output_type": "stream",
          "name": "stdout",
          "text": [
            "Job status is running. Progress is  69 %. Trying again.\n",
            "Job progress is 100%. Output links printed below:\n",
            "https://harmony.uat.earthdata.nasa.gov/service-results/harmony-uat-staging/public/6291401f-aa92-4f09-8fc7-1d6d4faec72c/4907885/2020_02_01_7f00ff_africa.tif\n",
            "https://harmony.uat.earthdata.nasa.gov/service-results/harmony-uat-staging/public/6291401f-aa92-4f09-8fc7-1d6d4faec72c/4907884/2020_01_16_ff0000_global.tif\n",
            "https://harmony.uat.earthdata.nasa.gov/service-results/harmony-uat-staging/public/6291401f-aa92-4f09-8fc7-1d6d4faec72c/4907886/2020_02_02_3200ff_africa.tif\n"
          ]
        }
      ],
      "source": [
        "#Continue loop while request is still processing\n",
        "while job_json['status'] == 'running' and job_json['progress'] < 100:\n",
        "    print('Job status is running. Progress is ', job_json['progress'], '%. Trying again.')\n",
        "    time.sleep(10)\n",
        "    job_json = get_json_response(job_url)\n",
        "    if job_json['status'] == 'running':\n",
        "        continue\n",
        "\n",
        "if job_json['status'] == 'successful' and job_json['progress'] == 100:\n",
        "    print('Job progress is 100%. Output links printed below:')\n",
        "    links = [link for link in job_json['links'] if link.get('rel', 'data') == 'data'] #list of data links from response\n",
        "    for i in range(len(links)):\n",
        "        link_dict = links[i]\n",
        "        print(link_dict['href'])\n",
        "        output_file_name = str(link_dict['title']+'.tif')\n",
        "        proj_filepath = str(local_dir+output_file_name)\n",
        "        file_ = open(proj_filepath, 'wb')\n",
        "        file_.write(proj_results)\n",
        "        file_.close()"
      ]
    },
    {
      "cell_type": "markdown",
      "metadata": {
        "id": "mQb6FFTvDUVQ"
      },
      "source": [
        "## Previewing a small number of results\n",
        "\n",
        "By default, a request will return as many results as match the spatial and temporal query parameters, although this is subject to system limitations to prevent users from inadvertently overwhelming the system.  If a user wishes to further limit the number of results returned in order to preview a small number of results before requesting a larger transformation, they can simply supply a parameter called 'maxResults'."
      ]
    },
    {
      "cell_type": "code",
      "execution_count": 45,
      "metadata": {
        "tags": [],
        "id": "SjfTjtFfDUVQ",
        "outputId": "42ed03a5-8d6d-4587-d68f-2fa6760edfda",
        "colab": {
          "base_uri": "https://localhost:8080/"
        }
      },
      "outputs": [
        {
          "output_type": "stream",
          "name": "stdout",
          "text": [
            "Request URL https://harmony.uat.earthdata.nasa.gov/C1234088182-EEDTEST/ogc-api-coverages/1.0.0/collections/all/coverage/rangeset?&maxResults=2\n",
            "{'createdAt': '2024-11-19T06:37:28.743Z',\n",
            " 'dataExpiration': '2024-12-19T06:37:28.743Z',\n",
            " 'jobID': 'b7dd6475-34ff-4661-b15b-f7e6934236d9',\n",
            " 'labels': [],\n",
            " 'links': [{'href': 'https://harmony.uat.earthdata.nasa.gov/jobs/b7dd6475-34ff-4661-b15b-f7e6934236d9/cancel',\n",
            "            'rel': 'canceler',\n",
            "            'title': 'Cancels the job.',\n",
            "            'type': 'application/json'},\n",
            "           {'href': 'https://harmony.uat.earthdata.nasa.gov/jobs/b7dd6475-34ff-4661-b15b-f7e6934236d9/pause',\n",
            "            'rel': 'pauser',\n",
            "            'title': 'Pauses the job.',\n",
            "            'type': 'application/json'},\n",
            "           {'href': 'https://harmony.uat.earthdata.nasa.gov/jobs/b7dd6475-34ff-4661-b15b-f7e6934236d9?page=1&limit=2000',\n",
            "            'rel': 'self',\n",
            "            'title': 'The current page',\n",
            "            'type': 'application/json'}],\n",
            " 'message': 'CMR query identified 177 granules, but the request has been '\n",
            "            'limited to process only the first 2 granules because you '\n",
            "            'requested 2 maxResults.',\n",
            " 'numInputGranules': 2,\n",
            " 'progress': 0,\n",
            " 'request': 'https://harmony.uat.earthdata.nasa.gov/C1234088182-EEDTEST/ogc-api-coverages/1.0.0/collections/all/coverage/rangeset?maxResults=2',\n",
            " 'status': 'running',\n",
            " 'updatedAt': '2024-11-19T06:37:28.743Z',\n",
            " 'username': 'syedadnanbukhari63'}\n"
          ]
        }
      ],
      "source": [
        "asyncConfig = {\n",
        "    'collection_id': harmony_collection_id,\n",
        "    'ogc-api-coverages_version': '1.0.0',\n",
        "    'variable': 'all',\n",
        "    'maxResults': '2'\n",
        "}\n",
        "\n",
        "async_url = harmony_root+'/{collection_id}/ogc-api-coverages/{ogc-api-coverages_version}/collections/{variable}/coverage/rangeset?&maxResults={maxResults}'.format(**asyncConfig)\n",
        "print('Request URL', async_url)\n",
        "async_json = get_json_response(async_url)\n",
        "pprint.pprint(async_json)"
      ]
    },
    {
      "cell_type": "markdown",
      "metadata": {
        "id": "EbVsHk5TDUVQ"
      },
      "source": [
        "## Access WMS Map Image\n",
        "\n",
        "Harmony supports WMS requests, producing geo-registered map images, for all collections associated to a given Harmony transformation service. The following steps were adapted from the [ORNL DAAC help document](https://webmap.ornl.gov/ogc/help/wms_script_python.html) on interacting with a WMS service in Python, using the example harmony collection."
      ]
    },
    {
      "cell_type": "code",
      "execution_count": 46,
      "metadata": {
        "id": "tHRwZq8pDUVQ",
        "outputId": "f1d0de18-560b-4e63-fe67-6d3d67bfe214",
        "colab": {
          "base_uri": "https://localhost:8080/"
        }
      },
      "outputs": [
        {
          "output_type": "stream",
          "name": "stdout",
          "text": [
            "Request URL https://harmony.uat.earthdata.nasa.gov/C1233800302-EEDTEST/wms?service=WMS&version=1.3.0&request=GetCapabilities\n"
          ]
        }
      ],
      "source": [
        "wmsConfig = {\n",
        "    'collection_id': 'C1233800302-EEDTEST',\n",
        "    'service': 'WMS',\n",
        "    'version': '1.3.0',\n",
        "    'request': 'GetCapabilities',\n",
        "}\n",
        "\n",
        "wms_url = harmony_root+'/{collection_id}/wms?service={service}&version={version}&request={request}'.format(**wmsConfig)\n",
        "print('Request URL', wms_url)"
      ]
    },
    {
      "cell_type": "markdown",
      "metadata": {
        "id": "ngl_rcebDUVQ"
      },
      "source": [
        "Information on the WMS service contents and titles of each variable layer:"
      ]
    },
    {
      "cell_type": "code",
      "execution_count": 47,
      "metadata": {
        "tags": [],
        "id": "pd88UUb7DUVQ",
        "outputId": "9c050e38-88db-4df6-a31f-15ff7acb71df",
        "colab": {
          "base_uri": "https://localhost:8080/"
        }
      },
      "outputs": [
        {
          "output_type": "stream",
          "name": "stdout",
          "text": [
            "Harmony WMS Service\n"
          ]
        },
        {
          "output_type": "execute_result",
          "data": {
            "text/plain": [
              "['GetCapabilities', 'GetMap', 'GetFeatureInfo']"
            ]
          },
          "metadata": {},
          "execution_count": 47
        }
      ],
      "source": [
        "if bearer_token:\n",
        "    wms_auth = Authentication(auth_delegate = BearerToken(bearer_token))\n",
        "    wms = WebMapService(wms_url, auth=wms_auth)\n",
        "else:\n",
        "    wms = WebMapService(wms_url)\n",
        "print(wms.identification.title)\n",
        "\n",
        "[op.name for op in wms.operations]"
      ]
    },
    {
      "cell_type": "code",
      "execution_count": 48,
      "metadata": {
        "tags": [],
        "id": "cfJz-6M_DUVQ",
        "outputId": "ceed5399-54b6-4dfb-a16e-d4cf6b92e672",
        "colab": {
          "base_uri": "https://localhost:8080/"
        }
      },
      "outputs": [
        {
          "output_type": "stream",
          "name": "stdout",
          "text": [
            "Variable contents:\n"
          ]
        },
        {
          "output_type": "execute_result",
          "data": {
            "text/plain": [
              "['C1233800302-EEDTEST/V1233801717-EEDTEST',\n",
              " 'C1233800302-EEDTEST/V1233801716-EEDTEST',\n",
              " 'C1233800302-EEDTEST/V1233801696-EEDTEST',\n",
              " 'C1233800302-EEDTEST/V1233801695-EEDTEST']"
            ]
          },
          "metadata": {},
          "execution_count": 48
        }
      ],
      "source": [
        "contents = list(wms.contents)\n",
        "print ('Variable contents:')\n",
        "contents"
      ]
    },
    {
      "cell_type": "code",
      "execution_count": 49,
      "metadata": {
        "tags": [],
        "id": "fFHpYgHHDUVQ",
        "outputId": "95dfadd4-00cb-4165-e62b-6e170c0a845f",
        "colab": {
          "base_uri": "https://localhost:8080/"
        }
      },
      "outputs": [
        {
          "output_type": "stream",
          "name": "stdout",
          "text": [
            "Variable titles:\n"
          ]
        },
        {
          "output_type": "execute_result",
          "data": {
            "text/plain": [
              "['alpha_var (Alpha channel )',\n",
              " 'blue_var (Blue channel)',\n",
              " 'green_var (Green channel)',\n",
              " 'red_var (Red Channel)']"
            ]
          },
          "metadata": {},
          "execution_count": 49
        }
      ],
      "source": [
        "print('Variable titles:')\n",
        "[wms[contents[i]].title for i in range(len(contents))]"
      ]
    },
    {
      "cell_type": "markdown",
      "metadata": {
        "id": "pRRy0dMIDUVQ"
      },
      "source": [
        "Select Coherence layer and send request:"
      ]
    },
    {
      "cell_type": "code",
      "execution_count": 50,
      "metadata": {
        "id": "99iYuQehDUVR"
      },
      "outputs": [],
      "source": [
        "coh = contents[1] # Coherence layer\n",
        "\n",
        "# send the request\n",
        "img = wms.getmap(\n",
        "    layers=[coh],\n",
        "    version='1.3.0',\n",
        "    CRS='CRS:84',\n",
        "    styles=['default'],\n",
        "    bbox=(-180,-90,154.4170924291685765,90), # Return full extent\n",
        "#    bbox=(-121.6,37.2,-120.57,38.0), # Example of a subset over California\n",
        "    granuleId='G1233800343-EEDTEST', # pick only one granule so the request won't time out\n",
        "    size=(600, 300),\n",
        "    format='image/png',\n",
        "    transparent=True)"
      ]
    },
    {
      "cell_type": "markdown",
      "metadata": {
        "id": "e4O7adsPDUVR"
      },
      "source": [
        "The image file is downloaded to the Harmony outputs directory:"
      ]
    },
    {
      "cell_type": "code",
      "execution_count": 51,
      "metadata": {
        "id": "kAuGV271DUVR"
      },
      "outputs": [],
      "source": [
        "# save image in a local file\n",
        "img_name = '/coh.png'\n",
        "img_path = str(local_dir+img_name)\n",
        "out = open(img_path, 'wb')\n",
        "out.write(img.read())\n",
        "out.close()"
      ]
    },
    {
      "cell_type": "markdown",
      "metadata": {
        "id": "ERB-m9WhDUVR"
      },
      "source": [
        "Read and plot the Coherence layer image:"
      ]
    },
    {
      "cell_type": "code",
      "execution_count": 52,
      "metadata": {
        "id": "ucQlXD-LDUVR",
        "outputId": "9a77d0a8-211a-4198-ffc7-52920bb0ac7e",
        "colab": {
          "base_uri": "https://localhost:8080/",
          "height": 420
        }
      },
      "outputs": [
        {
          "output_type": "display_data",
          "data": {
            "text/plain": [
              "<Figure size 640x480 with 2 Axes>"
            ],
            "image/png": "[encoded data removed]"
          },
          "metadata": {}
        }
      ],
      "source": [
        "# read png image file\n",
        "im = mpimg.imread(img_path)\n",
        "\n",
        "# show image\n",
        "plt.imshow(im)\n",
        "plt.colorbar();"
      ]
    },
    {
      "cell_type": "markdown",
      "metadata": {
        "id": "dI0XURlWDUVR"
      },
      "source": [
        "## Direct Delivery of Results to a User's S3 Bucket\n",
        "\n",
        "Harmony result data can be delivered directly to a user's S3 bucket (at the root level or optionally to a specific folder). To allow Harmony to write to the bucket and to make the data readable to the user once it has been written requires the following:\n",
        "\n",
        "1. The bucket must be in the same AWS region as Harmony, `us-west-2`.\n",
        "2. The bucket must either disable access control lists (ACL) or set the ownership rules so that the bucket owner owns written objects (not the object writer). Otherwise the files written by Harmony will not be accessible to the user.\n",
        "3. A bucket policy must be attached to the bucket to allow Harmony to interact with it. The policy should enable the `s3:PutObject` and `s3:GetBucketLocation` actions.\n",
        "\n",
        "To facilitate step 3, Harmony provides an endpoint that can generate an appropriate bucket policy given a bucket name. The generated policy will only work for the Harmony environment from which it is generated."
      ]
    },
    {
      "cell_type": "code",
      "execution_count": 53,
      "metadata": {
        "id": "IAoa_C5UDUVR",
        "outputId": "c0e3e330-53a6-4453-c51b-92c439b0ca38",
        "colab": {
          "base_uri": "https://localhost:8080/"
        }
      },
      "outputs": [
        {
          "output_type": "stream",
          "name": "stdout",
          "text": [
            "{\n",
            "  \"Version\": \"2012-10-17\",\n",
            "  \"Statement\": [\n",
            "    {\n",
            "      \"Sid\": \"write permission\",\n",
            "      \"Effect\": \"Allow\",\n",
            "      \"Principal\": {\n",
            "        \"AWS\": \"arn:aws:iam::549360732797:root\"\n",
            "      },\n",
            "      \"Action\": \"s3:PutObject\",\n",
            "      \"Resource\": \"arn:aws:s3:::my-bucket/*\"\n",
            "    },\n",
            "    {\n",
            "      \"Sid\": \"get bucket location permission\",\n",
            "      \"Effect\": \"Allow\",\n",
            "      \"Principal\": {\n",
            "        \"AWS\": \"arn:aws:iam::549360732797:root\"\n",
            "      },\n",
            "      \"Action\": \"s3:GetBucketLocation\",\n",
            "      \"Resource\": \"arn:aws:s3:::my-bucket\"\n",
            "    }\n",
            "  ]\n",
            "}\n"
          ]
        }
      ],
      "source": [
        "bucket_name = 'my-bucket'\n",
        "parameters = { 'bucketPath': bucket_name }\n",
        "query_string = parse.urlencode( parameters )\n",
        "bucket_policy_url = harmony_root+'/staging-bucket-policy?' + query_string\n",
        "\n",
        "policy_response = request.urlopen(bucket_policy_url)\n",
        "print(json.dumps(json.loads(policy_response.read().decode('utf-8')), indent=2))"
      ]
    },
    {
      "cell_type": "markdown",
      "metadata": {
        "id": "OHsI2tT6DUVR"
      },
      "source": [
        "`bucketPath` above can be a full S3 url, just a bucket name, or bucket name + key. All of the following are valid\n",
        "* `s3://my-bucket`\n",
        "* `s3://my-bucket/some/path`\n",
        "* `my-bucket`\n",
        "* `my-bucket/some/other/path`"
      ]
    }
  ],
  "metadata": {
    "kernelspec": {
      "display_name": "Python 3 (ipykernel)",
      "language": "python",
      "name": "python3"
    },
    "language_info": {
      "codemirror_mode": {
        "name": "ipython",
        "version": 3
      },
      "file_extension": ".py",
      "mimetype": "text/x-python",
      "name": "python",
      "nbconvert_exporter": "python",
      "pygments_lexer": "ipython3",
      "version": "3.11.2"
    },
    "vscode": {
      "interpreter": {
        "hash": "d0b323d74a2eccdefaacaf33c041ca03218ebb6c9aa84851ec587afd8a56d428"
      }
    },
    "colab": {
      "provenance": []
    }
  },
  "nbformat": 4,
  "nbformat_minor": 0
}